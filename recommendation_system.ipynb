{
 "cells": [
  {
   "cell_type": "markdown",
   "metadata": {},
   "source": [
    "## Import required libraries"
   ]
  },
  {
   "cell_type": "code",
   "execution_count": 198,
   "metadata": {},
   "outputs": [],
   "source": [
    "import warnings\n",
    "warnings.filterwarnings('ignore')"
   ]
  },
  {
   "cell_type": "code",
   "execution_count": 199,
   "metadata": {
    "colab": {},
    "colab_type": "code",
    "id": "bszia1WWgC4v"
   },
   "outputs": [],
   "source": [
    "from surprise.model_selection import RandomizedSearchCV , GridSearchCV , KFold \n",
    "from surprise import BaselineOnly, KNNBaseline, SVD, SVDpp\n",
    "from surprise import Reader, Dataset\n",
    "import xgboost as xgb\n",
    "import pandas as pd \n",
    "import numpy as np\n",
    "from prettytable import PrettyTable\n",
    "from sklearn.metrics import confusion_matrix\n",
    "import matplotlib.pyplot as plt\n",
    "from sklearn.metrics import make_scorer, mean_squared_error\n",
    "from sklearn.model_selection import GridSearchCV as GridSearch, RandomizedSearchCV as RandomSearch, KFold as KF\n",
    "from collections import OrderedDict"
   ]
  },
  {
   "cell_type": "markdown",
   "metadata": {},
   "source": [
    "### NOTE: \n",
    "#### Must have to use aliasing for sklearn GridSearchCV, RandomizedSearchCV and KFold because we are using same method from surprise library also."
   ]
  },
  {
   "cell_type": "markdown",
   "metadata": {},
   "source": [
    "## Reading Train and Test data to dataframe :"
   ]
  },
  {
   "cell_type": "markdown",
   "metadata": {},
   "source": [
    "#### 1.Train_dataframe"
   ]
  },
  {
   "cell_type": "code",
   "execution_count": 223,
   "metadata": {},
   "outputs": [
    {
     "data": {
      "text/html": [
       "<div>\n",
       "<style scoped>\n",
       "    .dataframe tbody tr th:only-of-type {\n",
       "        vertical-align: middle;\n",
       "    }\n",
       "\n",
       "    .dataframe tbody tr th {\n",
       "        vertical-align: top;\n",
       "    }\n",
       "\n",
       "    .dataframe thead th {\n",
       "        text-align: right;\n",
       "    }\n",
       "</style>\n",
       "<table border=\"1\" class=\"dataframe\">\n",
       "  <thead>\n",
       "    <tr style=\"text-align: right;\">\n",
       "      <th></th>\n",
       "      <th>user</th>\n",
       "      <th>movie</th>\n",
       "      <th>GAvg</th>\n",
       "      <th>sur1</th>\n",
       "      <th>sur2</th>\n",
       "      <th>sur3</th>\n",
       "      <th>sur4</th>\n",
       "      <th>sur5</th>\n",
       "      <th>smr1</th>\n",
       "      <th>smr2</th>\n",
       "      <th>smr3</th>\n",
       "      <th>smr4</th>\n",
       "      <th>smr5</th>\n",
       "      <th>UAvg</th>\n",
       "      <th>MAvg</th>\n",
       "      <th>rating</th>\n",
       "    </tr>\n",
       "  </thead>\n",
       "  <tbody>\n",
       "    <tr>\n",
       "      <th>0</th>\n",
       "      <td>174683</td>\n",
       "      <td>10</td>\n",
       "      <td>3.587581</td>\n",
       "      <td>5.0</td>\n",
       "      <td>5.0</td>\n",
       "      <td>3.0</td>\n",
       "      <td>4.0</td>\n",
       "      <td>4.0</td>\n",
       "      <td>3.0</td>\n",
       "      <td>5.0</td>\n",
       "      <td>4.0</td>\n",
       "      <td>3.0</td>\n",
       "      <td>2.0</td>\n",
       "      <td>3.882353</td>\n",
       "      <td>3.611111</td>\n",
       "      <td>5</td>\n",
       "    </tr>\n",
       "    <tr>\n",
       "      <th>1</th>\n",
       "      <td>233949</td>\n",
       "      <td>10</td>\n",
       "      <td>3.587581</td>\n",
       "      <td>4.0</td>\n",
       "      <td>4.0</td>\n",
       "      <td>5.0</td>\n",
       "      <td>1.0</td>\n",
       "      <td>3.0</td>\n",
       "      <td>2.0</td>\n",
       "      <td>3.0</td>\n",
       "      <td>2.0</td>\n",
       "      <td>3.0</td>\n",
       "      <td>3.0</td>\n",
       "      <td>2.692308</td>\n",
       "      <td>3.611111</td>\n",
       "      <td>3</td>\n",
       "    </tr>\n",
       "    <tr>\n",
       "      <th>2</th>\n",
       "      <td>555770</td>\n",
       "      <td>10</td>\n",
       "      <td>3.587581</td>\n",
       "      <td>4.0</td>\n",
       "      <td>5.0</td>\n",
       "      <td>4.0</td>\n",
       "      <td>4.0</td>\n",
       "      <td>5.0</td>\n",
       "      <td>4.0</td>\n",
       "      <td>2.0</td>\n",
       "      <td>5.0</td>\n",
       "      <td>4.0</td>\n",
       "      <td>4.0</td>\n",
       "      <td>3.795455</td>\n",
       "      <td>3.611111</td>\n",
       "      <td>4</td>\n",
       "    </tr>\n",
       "    <tr>\n",
       "      <th>3</th>\n",
       "      <td>767518</td>\n",
       "      <td>10</td>\n",
       "      <td>3.587581</td>\n",
       "      <td>2.0</td>\n",
       "      <td>5.0</td>\n",
       "      <td>4.0</td>\n",
       "      <td>4.0</td>\n",
       "      <td>3.0</td>\n",
       "      <td>5.0</td>\n",
       "      <td>5.0</td>\n",
       "      <td>4.0</td>\n",
       "      <td>4.0</td>\n",
       "      <td>3.0</td>\n",
       "      <td>3.884615</td>\n",
       "      <td>3.611111</td>\n",
       "      <td>5</td>\n",
       "    </tr>\n",
       "    <tr>\n",
       "      <th>4</th>\n",
       "      <td>894393</td>\n",
       "      <td>10</td>\n",
       "      <td>3.587581</td>\n",
       "      <td>3.0</td>\n",
       "      <td>5.0</td>\n",
       "      <td>4.0</td>\n",
       "      <td>4.0</td>\n",
       "      <td>3.0</td>\n",
       "      <td>4.0</td>\n",
       "      <td>4.0</td>\n",
       "      <td>4.0</td>\n",
       "      <td>4.0</td>\n",
       "      <td>4.0</td>\n",
       "      <td>4.000000</td>\n",
       "      <td>3.611111</td>\n",
       "      <td>4</td>\n",
       "    </tr>\n",
       "  </tbody>\n",
       "</table>\n",
       "</div>"
      ],
      "text/plain": [
       "     user  movie      GAvg  sur1  sur2  sur3  sur4  sur5  smr1  smr2  smr3  \\\n",
       "0  174683     10  3.587581   5.0   5.0   3.0   4.0   4.0   3.0   5.0   4.0   \n",
       "1  233949     10  3.587581   4.0   4.0   5.0   1.0   3.0   2.0   3.0   2.0   \n",
       "2  555770     10  3.587581   4.0   5.0   4.0   4.0   5.0   4.0   2.0   5.0   \n",
       "3  767518     10  3.587581   2.0   5.0   4.0   4.0   3.0   5.0   5.0   4.0   \n",
       "4  894393     10  3.587581   3.0   5.0   4.0   4.0   3.0   4.0   4.0   4.0   \n",
       "\n",
       "   smr4  smr5      UAvg      MAvg  rating  \n",
       "0   3.0   2.0  3.882353  3.611111       5  \n",
       "1   3.0   3.0  2.692308  3.611111       3  \n",
       "2   4.0   4.0  3.795455  3.611111       4  \n",
       "3   4.0   3.0  3.884615  3.611111       5  \n",
       "4   4.0   4.0  4.000000  3.611111       4  "
      ]
     },
     "execution_count": 223,
     "metadata": {},
     "output_type": "execute_result"
    }
   ],
   "source": [
    "train_reg = pd.read_csv('reg_train.csv', names = ['user', 'movie', 'GAvg', 'sur1', 'sur2', 'sur3', 'sur4', 'sur5',\n",
    "                                                  'smr1', 'smr2', 'smr3', 'smr4', 'smr5', \n",
    "                                                  'UAvg', 'MAvg', 'rating'], header=None)\n",
    "train_reg.head()"
   ]
  },
  {
   "cell_type": "markdown",
   "metadata": {},
   "source": [
    "-----------------------\n",
    "\n",
    "- __GAvg__ : Average rating of all the ratings \n",
    "\n",
    "\n",
    "- __Similar users rating of this movie__:\n",
    "    - sur1, sur2, sur3, sur4, sur5 ( top 5 similar users who rated that movie.. )\n",
    "    \n",
    "\n",
    "\n",
    "- __Similar movies rated by this user__:\n",
    "    - smr1, smr2, smr3, smr4, smr5 ( top 5 similar movies rated by this movie.. )\n",
    "\n",
    "\n",
    "- __UAvg__ : User's Average rating\n",
    "\n",
    "\n",
    "- __MAvg__ : Average rating of this movie\n",
    "\n",
    "\n",
    "- __rating__ : Rating of this movie by this user.\n",
    "\n",
    "-----------------------"
   ]
  },
  {
   "cell_type": "markdown",
   "metadata": {},
   "source": [
    "#### 2.Test_dataframe "
   ]
  },
  {
   "cell_type": "code",
   "execution_count": 224,
   "metadata": {},
   "outputs": [
    {
     "data": {
      "text/html": [
       "<div>\n",
       "<style scoped>\n",
       "    .dataframe tbody tr th:only-of-type {\n",
       "        vertical-align: middle;\n",
       "    }\n",
       "\n",
       "    .dataframe tbody tr th {\n",
       "        vertical-align: top;\n",
       "    }\n",
       "\n",
       "    .dataframe thead th {\n",
       "        text-align: right;\n",
       "    }\n",
       "</style>\n",
       "<table border=\"1\" class=\"dataframe\">\n",
       "  <thead>\n",
       "    <tr style=\"text-align: right;\">\n",
       "      <th></th>\n",
       "      <th>user</th>\n",
       "      <th>movie</th>\n",
       "      <th>GAvg</th>\n",
       "      <th>sur1</th>\n",
       "      <th>sur2</th>\n",
       "      <th>sur3</th>\n",
       "      <th>sur4</th>\n",
       "      <th>sur5</th>\n",
       "      <th>smr1</th>\n",
       "      <th>smr2</th>\n",
       "      <th>smr3</th>\n",
       "      <th>smr4</th>\n",
       "      <th>smr5</th>\n",
       "      <th>UAvg</th>\n",
       "      <th>MAvg</th>\n",
       "      <th>rating</th>\n",
       "    </tr>\n",
       "  </thead>\n",
       "  <tbody>\n",
       "    <tr>\n",
       "      <th>0</th>\n",
       "      <td>808635</td>\n",
       "      <td>71</td>\n",
       "      <td>3.587581</td>\n",
       "      <td>3.587581</td>\n",
       "      <td>3.587581</td>\n",
       "      <td>3.587581</td>\n",
       "      <td>3.587581</td>\n",
       "      <td>3.587581</td>\n",
       "      <td>3.587581</td>\n",
       "      <td>3.587581</td>\n",
       "      <td>3.587581</td>\n",
       "      <td>3.587581</td>\n",
       "      <td>3.587581</td>\n",
       "      <td>3.587581</td>\n",
       "      <td>3.587581</td>\n",
       "      <td>5</td>\n",
       "    </tr>\n",
       "    <tr>\n",
       "      <th>1</th>\n",
       "      <td>941866</td>\n",
       "      <td>71</td>\n",
       "      <td>3.587581</td>\n",
       "      <td>3.587581</td>\n",
       "      <td>3.587581</td>\n",
       "      <td>3.587581</td>\n",
       "      <td>3.587581</td>\n",
       "      <td>3.587581</td>\n",
       "      <td>3.587581</td>\n",
       "      <td>3.587581</td>\n",
       "      <td>3.587581</td>\n",
       "      <td>3.587581</td>\n",
       "      <td>3.587581</td>\n",
       "      <td>3.587581</td>\n",
       "      <td>3.587581</td>\n",
       "      <td>4</td>\n",
       "    </tr>\n",
       "    <tr>\n",
       "      <th>2</th>\n",
       "      <td>1737912</td>\n",
       "      <td>71</td>\n",
       "      <td>3.587581</td>\n",
       "      <td>3.587581</td>\n",
       "      <td>3.587581</td>\n",
       "      <td>3.587581</td>\n",
       "      <td>3.587581</td>\n",
       "      <td>3.587581</td>\n",
       "      <td>3.587581</td>\n",
       "      <td>3.587581</td>\n",
       "      <td>3.587581</td>\n",
       "      <td>3.587581</td>\n",
       "      <td>3.587581</td>\n",
       "      <td>3.587581</td>\n",
       "      <td>3.587581</td>\n",
       "      <td>3</td>\n",
       "    </tr>\n",
       "    <tr>\n",
       "      <th>3</th>\n",
       "      <td>1849204</td>\n",
       "      <td>71</td>\n",
       "      <td>3.587581</td>\n",
       "      <td>3.587581</td>\n",
       "      <td>3.587581</td>\n",
       "      <td>3.587581</td>\n",
       "      <td>3.587581</td>\n",
       "      <td>3.587581</td>\n",
       "      <td>3.587581</td>\n",
       "      <td>3.587581</td>\n",
       "      <td>3.587581</td>\n",
       "      <td>3.587581</td>\n",
       "      <td>3.587581</td>\n",
       "      <td>3.587581</td>\n",
       "      <td>3.587581</td>\n",
       "      <td>4</td>\n",
       "    </tr>\n",
       "  </tbody>\n",
       "</table>\n",
       "</div>"
      ],
      "text/plain": [
       "      user  movie      GAvg      sur1      sur2      sur3      sur4      sur5  \\\n",
       "0   808635     71  3.587581  3.587581  3.587581  3.587581  3.587581  3.587581   \n",
       "1   941866     71  3.587581  3.587581  3.587581  3.587581  3.587581  3.587581   \n",
       "2  1737912     71  3.587581  3.587581  3.587581  3.587581  3.587581  3.587581   \n",
       "3  1849204     71  3.587581  3.587581  3.587581  3.587581  3.587581  3.587581   \n",
       "\n",
       "       smr1      smr2      smr3      smr4      smr5      UAvg      MAvg  \\\n",
       "0  3.587581  3.587581  3.587581  3.587581  3.587581  3.587581  3.587581   \n",
       "1  3.587581  3.587581  3.587581  3.587581  3.587581  3.587581  3.587581   \n",
       "2  3.587581  3.587581  3.587581  3.587581  3.587581  3.587581  3.587581   \n",
       "3  3.587581  3.587581  3.587581  3.587581  3.587581  3.587581  3.587581   \n",
       "\n",
       "   rating  \n",
       "0       5  \n",
       "1       4  \n",
       "2       3  \n",
       "3       4  "
      ]
     },
     "execution_count": 224,
     "metadata": {},
     "output_type": "execute_result"
    }
   ],
   "source": [
    "test_reg = pd.read_csv('reg_test.csv', names = ['user', 'movie', 'GAvg', 'sur1', 'sur2', 'sur3', 'sur4', 'sur5',\n",
    "                                                          'smr1', 'smr2', 'smr3', 'smr4', 'smr5',\n",
    "                                                          'UAvg', 'MAvg', 'rating'], header=None)\n",
    "test_reg.head(4)"
   ]
  },
  {
   "cell_type": "markdown",
   "metadata": {},
   "source": [
    "-----------------------\n",
    "\n",
    "- __GAvg__ : Average rating of all the ratings \n",
    "\n",
    "\n",
    "- __Similar users rating of this movie__:\n",
    "    - sur1, sur2, sur3, sur4, sur5 ( top 5 simiular users who rated that movie.. )\n",
    "    \n",
    "\n",
    "\n",
    "- __Similar movies rated by this user__:\n",
    "    - smr1, smr2, smr3, smr4, smr5 ( top 5 simiular movies rated by this movie.. )\n",
    "\n",
    "\n",
    "- __UAvg__ : User AVerage rating\n",
    "\n",
    "\n",
    "- __MAvg__ : Average rating of this movie\n",
    "\n",
    "\n",
    "- __rating__ : Rating of this movie by this user.\n",
    "\n",
    "-----------------------"
   ]
  },
  {
   "cell_type": "markdown",
   "metadata": {},
   "source": [
    "## Transforming data for Surprise models"
   ]
  },
  {
   "cell_type": "markdown",
   "metadata": {},
   "source": [
    "#### 1.Transforming train data"
   ]
  },
  {
   "cell_type": "markdown",
   "metadata": {},
   "source": [
    "- We can't give raw data (movie, user, rating) to train the model in Surprise library.\n",
    "\n",
    "\n",
    "- They have a saperate format for TRAIN and TEST data, which will be useful for training the models like SVD, KNNBaseLineOnly....etc..,in Surprise.\n",
    "\n",
    "\n",
    "- We can form the trainset from a file, or from a Pandas  DataFrame. \n",
    "http://surprise.readthedocs.io/en/stable/getting_started.html#load-dom-dataframe-py "
   ]
  },
  {
   "cell_type": "code",
   "execution_count": 225,
   "metadata": {},
   "outputs": [],
   "source": [
    "# It is to specify how to read the dataframe.\n",
    "# for our dataframe, we don't have to specify anything extra..\n",
    "reader = Reader(rating_scale=(1,5))\n",
    "\n",
    "# create the traindata from the dataframe...\n",
    "train_data = Dataset.load_from_df(train_reg[['user', 'movie', 'rating']], reader)\n",
    "\n",
    "# build the trainset from traindata.., It is of dataset format from surprise library..\n",
    "trainset = train_data.build_full_trainset() "
   ]
  },
  {
   "cell_type": "markdown",
   "metadata": {},
   "source": [
    "#### 2.Transforming test data"
   ]
  },
  {
   "cell_type": "markdown",
   "metadata": {},
   "source": [
    "- Testset is just a list of (user, movie, rating) tuples. (Order in the tuple is impotant) "
   ]
  },
  {
   "cell_type": "code",
   "execution_count": 226,
   "metadata": {},
   "outputs": [
    {
     "data": {
      "text/plain": [
       "[(808635, 71, 5), (941866, 71, 4), (1737912, 71, 3)]"
      ]
     },
     "execution_count": 226,
     "metadata": {},
     "output_type": "execute_result"
    }
   ],
   "source": [
    "testset = list(zip(test_reg.user.values, test_reg.movie.values, test_reg.rating.values))\n",
    "testset[:3]"
   ]
  },
  {
   "cell_type": "markdown",
   "metadata": {},
   "source": [
    "## Applying Machine Learning models"
   ]
  },
  {
   "cell_type": "markdown",
   "metadata": {},
   "source": [
    "-  Global dictionary that stores rmse and mape for all the models....\n",
    "\n",
    "    - It stores the metrics in a dictionary of dictionaries\n",
    "\n",
    "    > __keys__ : model names(string)\n",
    "\n",
    "    > __value__: dict(__key__ : metric, __value__ : value ) "
   ]
  },
  {
   "cell_type": "code",
   "execution_count": 227,
   "metadata": {},
   "outputs": [
    {
     "data": {
      "text/plain": [
       "({}, {})"
      ]
     },
     "execution_count": 227,
     "metadata": {},
     "output_type": "execute_result"
    }
   ],
   "source": [
    "models_evaluation_train = dict()\n",
    "models_evaluation_test = dict()\n",
    "\n",
    "models_evaluation_train, models_evaluation_test"
   ]
  },
  {
   "cell_type": "markdown",
   "metadata": {},
   "source": [
    "### Function to print parameters summary:"
   ]
  },
  {
   "cell_type": "code",
   "execution_count": 205,
   "metadata": {},
   "outputs": [],
   "source": [
    "def param_list(params, para_summ):\n",
    "    para_summ.clear_rows()\n",
    "    for name, val in zip(params.keys(),params.values()):\n",
    "        para_summ.add_row([name, val])\n",
    "    print(para_summ)"
   ]
  },
  {
   "cell_type": "markdown",
   "metadata": {},
   "source": [
    "### Function for feature importance:"
   ]
  },
  {
   "cell_type": "code",
   "execution_count": 206,
   "metadata": {},
   "outputs": [],
   "source": [
    "def plot_importance(model, clf):\n",
    "    fig = plt.figure(figsize = (8, 6))\n",
    "    ax = fig.add_axes([0,0,1,1])\n",
    "    model.plot_importance(clf, ax = ax, height = 0.3)\n",
    "    plt.xlabel(\"F Score\", fontsize = 20)\n",
    "    plt.ylabel(\"Features\", fontsize = 20)\n",
    "    plt.title(\"Feature Importance\", fontsize = 20)\n",
    "    plt.tick_params(labelsize = 15)\n",
    "    \n",
    "    plt.show()"
   ]
  },
  {
   "cell_type": "markdown",
   "metadata": {
    "colab_type": "text",
    "id": "Dvwm8bw7kiRC"
   },
   "source": [
    "### Function required for Surprise Models:\n",
    "### SURPRISE:"
   ]
  },
  {
   "cell_type": "markdown",
   "metadata": {
    "colab_type": "text",
    "id": "394sYRukWLMf"
   },
   "source": [
    "#### 1. Function for Hyperparameter Tunning :"
   ]
  },
  {
   "cell_type": "code",
   "execution_count": 207,
   "metadata": {
    "colab": {},
    "colab_type": "code",
    "id": "CPVWUznTgC45"
   },
   "outputs": [],
   "source": [
    "def hyperparamTUNNING(clf, data, params, CV, name, searchMethod='random'):\n",
    "    if searchMethod=='random':\n",
    "        model=RandomizedSearchCV(clf,\\\n",
    "                                 param_distributions=params,\\\n",
    "                                 n_iter=20,\\\n",
    "                                 n_jobs=16,\\\n",
    "                                 measures=['rmse', 'mae'],\\\n",
    "                                 return_train_measures=True)\n",
    "    elif searchMethod=='grid':\n",
    "        model=GridSearchCV(clf,\\\n",
    "                           param_grid=params,\\\n",
    "                           n_jobs=-1,\\\n",
    "                           measures=['rmse','mae'],\\\n",
    "                           cv=CV,\\\n",
    "                           return_train_measures=True)\n",
    "    model.fit(data)\n",
    "    tr_rmse = model.cv_results['mean_train_rmse']\n",
    "    cv_rmse = model.cv_results['mean_test_rmse']\n",
    "    for i in range(len(tr_rmse)):\n",
    "        print('Train RMSE: %.4f'%tr_rmse[i],'CV RMSE: %.4f'%cv_rmse[i])\n",
    "    # BEST RMSE AND COMBINATION OF OPTIMAL PARAMETERS VALUES TO GET THAT RMSE\n",
    "    print('\\n\\nBest RMSE: %.5f'%model.best_score['rmse'],'For Optimal Params Combination Value:')\n",
    "    if name=='knn':\n",
    "        print('\\t[1.]K: %d'%model.best_params['rmse']['k'],\\\n",
    "              '\\n\\t[2.]shrinkage: %d'%model.best_params['rmse']['sim_options']['shrinkage'],\\\n",
    "              '\\n\\t[3.]lerning_rate: %.4f'%model.best_params['rmse']['bsl_options']['learning_rate'],\\\n",
    "              '\\n\\t[4.]Epochs: %d'%model.best_params['rmse']['bsl_options']['n_epochs'])\n",
    "    elif name=='bsl':\n",
    "        #print(model.best_params)\n",
    "        print('\\t[1.]Learning-Rate: %.4f'%model.best_params['rmse']['bsl_options']['learning_rate'],\\\n",
    "              '\\n\\t[2.]Epochs: %d'%model.best_params['rmse']['bsl_options']['n_epochs'])\n",
    "    elif name=='svd':\n",
    "        print('\\t[1.]N-Factors: %d'%model.best_params['rmse']['n_factors'],\\\n",
    "              '\\n\\t[2.]Epochs: %d'%model.best_params['rmse']['n_epochs'],\\\n",
    "              '\\n\\t[3.]Learning-Rate: %.4f'%model.best_params['rmse']['lr_all'],\\\n",
    "              '\\n\\t[4.]Reg-All: %.4f'%model.best_params['rmse']['reg_all'])\n",
    "    return model"
   ]
  },
  {
   "cell_type": "markdown",
   "metadata": {
    "colab_type": "text",
    "id": "_0iUr9WXk8-T"
   },
   "source": [
    "#### 2. function for measure rating:"
   ]
  },
  {
   "cell_type": "code",
   "execution_count": 208,
   "metadata": {
    "colab": {},
    "colab_type": "code",
    "id": "oee6UOnqVR_b"
   },
   "outputs": [],
   "source": [
    "def get_ratings(predictions):\n",
    "    actual = np.array([pred.r_ui for pred in predictions])\n",
    "    predicted = np.array([pred.est for pred in predictions])\n",
    "    return actual, predicted\n",
    "#in surprise prediction of every data point is returned as dictionary like this:\n",
    "#\"user: 196        item: 302        r_ui = 4.00   est = 4.06   {'actual_k': 40, 'was_impossible': False}\"\n",
    "#In this dictionary, \"r_ui\" is a key for actual rating and \"est\" is a key for predicted rating "
   ]
  },
  {
   "cell_type": "markdown",
   "metadata": {
    "colab_type": "text",
    "id": "iHFvlnHolEbs"
   },
   "source": [
    "#### 3. function for error measurement:"
   ]
  },
  {
   "cell_type": "code",
   "execution_count": 209,
   "metadata": {
    "colab": {},
    "colab_type": "code",
    "id": "CckWe0GaVUK1"
   },
   "outputs": [],
   "source": [
    "def get_error(predictions):\n",
    "    actual, predicted = get_ratings(predictions)\n",
    "    rmse = np.sqrt(mean_squared_error(actual, predicted)) \n",
    "    mape = np.mean(abs((actual - predicted)/actual))*100\n",
    "    return rmse, mape"
   ]
  },
  {
   "cell_type": "markdown",
   "metadata": {
    "colab_type": "text",
    "id": "5Lw8HHQgXuJW"
   },
   "source": [
    "#### 4. function for measure performance on test data: "
   ]
  },
  {
   "cell_type": "code",
   "execution_count": 210,
   "metadata": {
    "colab": {},
    "colab_type": "code",
    "id": "LiP311LZtcQy"
   },
   "outputs": [],
   "source": [
    "my_seed = 15\n",
    "np.random.seed(my_seed)\n",
    "\n",
    "def run_surprise(algo, trainset, testset, model_name, model_summ_local, model_summary=None):\n",
    "    \n",
    "    train = dict()\n",
    "    test = dict()\n",
    "    \n",
    "    algo.fit(trainset)\n",
    "    \n",
    "    train_pred = algo.test(trainset.build_testset())\n",
    "   \n",
    "    train_actual, train_predicted = get_ratings(train_pred)\n",
    "    train_rmse, train_mape = get_error(train_pred)\n",
    "    #print(\"TRAIN RMSE(WITH OPTIMAL VALUE OF PARAMS) = %.6f\"%train_rmse)\n",
    "    #print(\"TRAIN MAPE(WITH OPTIMAL VALUE OF PARAMS) = %.6f\"%train_mape)\n",
    "    #print(\"-\"*50)\n",
    "    train = {\"RMSE\": train_rmse, \"MAPE\": train_mape, \"prediction\": train_predicted}\n",
    "    \n",
    "#-----------------Evaluating Test Data------------------#\n",
    "    #print(\"TEST DATA\")\n",
    "    #PREDICTIONS ON TEST DATA\n",
    "    test_pred = algo.test(testset)\n",
    "    test_actual, test_predicted = get_ratings(test_pred)\n",
    "    test_rmse, test_mape = get_error(test_pred)\n",
    "    #print(\"TEST RMSE(WITH OPTIMAL VALUE OF PARAMS) = %.6f\"%test_rmse)\n",
    "    #print(\"TEST MAPE(WITH OPTIMAL VALUE OF PARAMS) = %.6f\"%test_mape)\n",
    "    #print(\"-\"*50)\n",
    "    test = {\"RMSE\": test_rmse, \"MAPE\": test_mape, \"prediction\": test_predicted}\n",
    "    \n",
    "    #PRINT PERFORMANCE WITH BEST PARAMS\n",
    "    model_summ_local.add_row([model_name, '%.5f'%train_rmse, '%.5f'%train_mape, '%.5f'%test_rmse, '%.5f'%test_mape])\n",
    "    print('Performance Summary (WITH OPTIMAL VALUE OF PARAMETERS):')\n",
    "    \n",
    "    if model_summary !=None:\n",
    "        model_summary.add_row([model_name, '%.5f'%train_rmse, '%.5f'%train_mape, '%.5f'%test_rmse, '%.5f'%test_mape])\n",
    "    #make_table(model_name, train_rmse, train_mape, test_rmse, test_mape)\n",
    "    \n",
    "    return train, test, model_summ_local"
   ]
  },
  {
   "cell_type": "code",
   "execution_count": 211,
   "metadata": {
    "colab": {},
    "colab_type": "code",
    "id": "j191RIPJgsp_"
   },
   "outputs": [],
   "source": [
    "def testPerformance(clf, trainset, testset, train_reg, test_reg, model_name, model_summary=None, add_to_xgboost=False):\n",
    "    model_summ_local=PrettyTable()\n",
    "    model_summ_local.field_names=['Model', 'Train(RMSE)', 'Train(MAPE)', 'Test(RMSE)', 'Test(MAPE)']\n",
    "    #APPLYING MODEL WITH OPTIMAL VALUE OF HYPEPARAMS\n",
    "    train_result, test_result, model_summ_local = run_surprise(clf, trainset, testset, model_name, model_summ_local, model_summary)\n",
    "    #ADD PRDICTED DATA AS NEW COLUMN FROM SURPISE MODEL TO XGBOOST DATA = XGBOOST_FEATS + SURPRISE_O/P\n",
    "    if add_to_xgboost:\n",
    "        train_reg[model_name]=train_result['prediction']\n",
    "        test_reg[model_name]=test_result['prediction']\n",
    "    return train_result, test_result, model_summ_local"
   ]
  },
  {
   "cell_type": "markdown",
   "metadata": {
    "colab_type": "text",
    "id": "9o1bpJzqkQbM"
   },
   "source": [
    "# ==============================================================="
   ]
  },
  {
   "cell_type": "markdown",
   "metadata": {
    "colab_type": "text",
    "id": "P5e4dUF5hJtO"
   },
   "source": [
    "### Functions required for XGBOOST models :\n",
    "### XGBOOST (GBDT)"
   ]
  },
  {
   "cell_type": "markdown",
   "metadata": {
    "colab_type": "text",
    "id": "q_5KbC-LhwOC"
   },
   "source": [
    "#### 1. function for scorer for Grid search and Random search:"
   ]
  },
  {
   "cell_type": "code",
   "execution_count": 212,
   "metadata": {
    "colab": {},
    "colab_type": "code",
    "id": "aKsIMI3RX9AX"
   },
   "outputs": [],
   "source": [
    "def cust_scorer(y_true, y_pred):\n",
    "    rmse = np.sqrt(mean_squared_error(y_true, y_pred))\n",
    "    #mape = np.mean(abs((y_true - y_pred)/y_true))*100\n",
    "    return rmse"
   ]
  },
  {
   "cell_type": "markdown",
   "metadata": {
    "colab_type": "text",
    "id": "23S7F6Uvh5E5"
   },
   "source": [
    "#### 2. function for Tunning hypeparam:"
   ]
  },
  {
   "cell_type": "code",
   "execution_count": 213,
   "metadata": {
    "colab": {},
    "colab_type": "code",
    "id": "MLiv2PUUX9Me"
   },
   "outputs": [],
   "source": [
    "def Ensemble_Regressor(x_train,y_train,CV,params_, tune_param, searchMethod):\n",
    "    #INITIALIZE GBDT CLASSIFIER\n",
    "    reg=xgb.XGBRegressor(n_estimators=params_['n_estimators'],\\\n",
    "                          max_depth=params_['max_depth'],\\\n",
    "                          eta=.02,\\\n",
    "                          reg_alpha=params_['reg_alpha'],\\\n",
    "                          min_child_weight=params_['min_child_weight'],\\\n",
    "                          gamma=params_['gamma'],\\\n",
    "                          subsample=params_['subsample'],\\\n",
    "                          colsample_bytree=params_['colsample_bytree'],\\\n",
    "                          booster='gbtree')\n",
    "    # APPLY RANDOM OR GRID SEARCH FOR HYPERPARAMETER TUNNING\n",
    "    if searchMethod=='random':\n",
    "        model=RandomSearch(reg,\\\n",
    "                           n_jobs=-1,\\\n",
    "                           cv=CV,\\\n",
    "                           param_distributions=tune_param,\\\n",
    "                           n_iter=3,\\\n",
    "                           return_train_score=True,\\\n",
    "                           scoring=make_scorer(cust_scorer, greater_is_better=False))\n",
    "    elif searchMethod=='grid':\n",
    "        model= GridSearch(estimator=reg,\\\n",
    "                          param_grid=tune_param,\\\n",
    "                          scoring=make_scorer(cust_scorer, greater_is_better=False),\\\n",
    "                          n_jobs=-1,\\\n",
    "                          cv=CV,\\\n",
    "                          return_train_score=True\n",
    "                         )\n",
    "    model.fit(x_train,y_train)\n",
    "    #PLOT THE PERFORMANCE OF MODEL ON CROSSVALIDATION DATA FOR EACH HYPERPARAM VALUE\n",
    "    train_rmse = model.cv_results_['mean_train_score']\n",
    "    cv_rmse = model.cv_results_['mean_test_score']\n",
    "    #if len(param_name.split())==1:\n",
    "    for i in range(len(train_rmse)):\n",
    "        print('Train RMSE: %.4f'%abs(train_rmse[i]),'CV RMSE: %.4f'%abs(cv_rmse[i]))\n",
    "    print()\n",
    "    return model"
   ]
  },
  {
   "cell_type": "code",
   "execution_count": 214,
   "metadata": {},
   "outputs": [],
   "source": [
    "def tuneALL_PARAM_XGB(train, y_train, CV, params_range, params_, searchMethod):\n",
    "    for param_name, param_list in zip(params_range.keys(),params_range.values()):\n",
    "        tune_param={}\n",
    "        tune_param[param_name]=param_list\n",
    "        #TUNNING HYPERPARAM\n",
    "        print('Tunning {}:'.format(param_name.upper()))\n",
    "        model=Ensemble_Regressor(train, y_train, CV, params_, tune_param, searchMethod)\n",
    "        #UPDATE OTIMAL VALUE OF PARAMETER\n",
    "        params_[param_name] = model.best_params_[param_name]\n",
    "    return model, params_"
   ]
  },
  {
   "cell_type": "markdown",
   "metadata": {
    "colab_type": "text",
    "id": "4aNkS7hciHP4"
   },
   "source": [
    "#### 3. function for measuring perfromance on test data:"
   ]
  },
  {
   "cell_type": "code",
   "execution_count": 215,
   "metadata": {
    "colab": {},
    "colab_type": "code",
    "id": "Wd5aaV1vaF0f"
   },
   "outputs": [],
   "source": [
    "def test_performance_xgb(x_train,y_train,x_test,y_test,params_, model_summary,model_use=None,summary=False):\n",
    "    '''FUNCTION FOR TEST PERFORMANCE(PLOT ROC CURVE FOR BOTH TRAIN AND TEST) WITH OPTIMAL HYPERPARAM'''\n",
    "    train_result={}\n",
    "    test_result={}\n",
    "    #INITIALIZE GBDT WITH OPTIMAL VALUE OF HYPERPARAMS\n",
    "    clf=xgb.XGBRegressor(n_estimators=params_['n_estimators'],\\\n",
    "                          max_depth=params_['max_depth'],\\\n",
    "                          eta=.02,\\\n",
    "                          reg_alpha=params_['reg_alpha'],\\\n",
    "                          min_child_weight=params_['min_child_weight'],\\\n",
    "                          gamma=params_['gamma'],\\\n",
    "                          subsample=params_['subsample'],\\\n",
    "                          colsample_bytree=params_['colsample_bytree'],\\\n",
    "                          booster='gbtree',\\\n",
    "                         verbose=1)\n",
    "   \n",
    "    clf.fit(x_train, y_train)\n",
    "    #PREDICTION FOR TRAIN AND TEST\n",
    "    y_pred=clf.predict(x_test)\n",
    "    y_pred_tr=clf.predict(x_train)\n",
    "    \n",
    "    #TEST RMSE AND MAPE\n",
    "    test_rmse=abs(np.sqrt(mean_squared_error(y_test, y_pred)))\n",
    "    test_mape=np.mean(np.abs((y_test - y_pred) / y_test)) * 100\n",
    "    #TRAIN RMSE AND MAPE\n",
    "    train_rmse=abs(np.sqrt(mean_squared_error(y_train, y_pred_tr)))\n",
    "    train_mape=np.mean(np.abs((y_train - y_pred_tr) / y_train)) * 100\n",
    "    \n",
    "    #SAVE RESULT GLOBALLY\n",
    "    train_result['RMSE']=train_rmse; train_result['MAPE']=train_mape; train_result['prediction']=y_pred_tr\n",
    "    test_result['RMSE']=test_rmse; test_result['MAPE']=test_mape; test_result['prediction']=y_pred\n",
    "    \n",
    "    print('FOR OPTIMAL PARAMETERS, TRAIN RMSE: %.5f,  TEST RMSE: %.5f'%(train_rmse, test_rmse))\n",
    "    model_summ_local=PrettyTable()\n",
    "    model_summ_local.field_names=['Model', 'Train(RMSE)', 'Train(MAPE)', 'Test(RMSE)', 'Test(MAPE)']\n",
    "    model_summ_local.add_row([model_use, '%.5f'%train_rmse, '%.5f'%train_mape, '%.5f'%test_rmse, '%.5f'%test_mape])\n",
    "    plot_importance(xgb, clf)\n",
    "    #print(model_local_summ)\n",
    "    if summary:\n",
    "        model_summary.add_row([model_use, '%.5f'%train_rmse, '%.5f'%train_mape,'%.5f'%test_rmse, '%.5f'%test_mape])\n",
    "    return train_result, test_result, model_summ_local"
   ]
  },
  {
   "cell_type": "markdown",
   "metadata": {
    "colab_type": "text",
    "id": "N90dCkiDmrAa"
   },
   "source": [
    "# ============================================================"
   ]
  },
  {
   "cell_type": "markdown",
   "metadata": {
    "colab_type": "text",
    "id": "KRggS7Jemx95"
   },
   "source": [
    "# MODELS:"
   ]
  },
  {
   "cell_type": "markdown",
   "metadata": {},
   "source": [
    "### Initialization of common objects for Baseline and Matrix Factorization models:"
   ]
  },
  {
   "cell_type": "code",
   "execution_count": 228,
   "metadata": {},
   "outputs": [],
   "source": [
    "#DATA\n",
    "data = Dataset.load_from_df(train_reg[['user', 'movie', 'rating']], reader)\n",
    "\n",
    "#TUNNING ALGORITH TO BE USED\n",
    "searchMethod=['random', 'grid']\n",
    "\n",
    "#HYPERPARAM RANGE\n",
    "min_k=[1]\n",
    "k=[20,30,40,60]\n",
    "bsl_options = {'method' : ['sgd'], 'learning_rate':[.001,.01,.05,.1], 'n_epochs':[10,20]}\n",
    "sim_options= {'name': ['pearson_baseline'] , 'user_based': [True], 'shrinkage':[80,100,120,140]}\n",
    "\n",
    "#DICT OF HYPERPARAM\n",
    "params={ }\n",
    "\n",
    "#DICT HYPERPARAMS FOR SVD AND SVDPP \n",
    "params_svd=OrderedDict([('n_factors',[10,30,50,70,90]),\\\n",
    "                        ('n_epochs',[10,20,30,40]),\\\n",
    "                        ('lr_all',[.003,.005,.008,.1]),\\\n",
    "                        ('reg_all',[0.0,.02,.05,.07,.09])])\n",
    "#MODEL USED\n",
    "model_name=['XGBOOST-13-FEATS', 'BaselineOnly', 'XGBOOST-BSL', 'KNNBaseline-U-U',\\\n",
    "            'KNNBaseline-I-I', 'XGBOOST-KNN', 'SVD', 'SVD++', 'XGBOOST-13-BSL-KNN-MF', 'XGBOOST-BSL-KNN-MF', ]\n",
    "\n",
    "\n",
    "#GLOBAL SUMMARY OF ALL THE MODELS\n",
    "model_summary=PrettyTable()\n",
    "model_summary.field_names=['Model', 'Train(RMSE)', 'Train(MAPE)', 'Test(RMSE)', 'Test(MAPE)']\n",
    "\n",
    "#CROSS VALIDATION SPLIT OBJECT\n",
    "CV_= KFold(n_splits=5)"
   ]
  },
  {
   "cell_type": "markdown",
   "metadata": {},
   "source": [
    "### Initialization of common objects for XGBOOST model:"
   ]
  },
  {
   "cell_type": "code",
   "execution_count": 229,
   "metadata": {},
   "outputs": [],
   "source": [
    "#DICT OF PARAMETERS, INITIALLY SET RESONABLE VALUES FOR PARAMETER, AND AFTER TUNNING UPDATE VALUE WITH OPT. VALUE\n",
    "params_=OrderedDict([\n",
    "    ('n_estimators',64),\n",
    "    ('max_depth',5),\n",
    "    ('min_child_weight',1),\n",
    "    ('gamma',0),\n",
    "    ('subsample',.8),\n",
    "    ('colsample_bytree',.8),\n",
    "    ('reg_alpha',.1)]\n",
    ")\n",
    "\n",
    "\n",
    "# DICT OF HYPERPARAMETER FOR XGBOOST WITH RANGE OF VALUES\n",
    "params_range=OrderedDict([('n_estimators', [32,64,80,100]),\\\n",
    "         ('max_depth', [5,7,9]),\\\n",
    "         ('min_child_weight', [1,3,5]),\\\n",
    "         ('gamma', [i/10.0 for i in range(0,5)]),\\\n",
    "         ('subsample', [.6,.7,.8,.9]),\\\n",
    "         ('colsample_bytree', [.6,.7,.8,.9]),\\\n",
    "         ('reg_alpha',[0, 0.001, 0.005, 0.01, 0.05])])\n",
    "\n",
    "#CV SPLIT (HERE KF STANDS/ALIAS FOR KFold() method of sklearn) \n",
    "CV = KF(n_splits=5)\n",
    "\n",
    "#SEARCHING ALGO FOR HYPERPARAM\n",
    "searchMethod=['random', 'grid']\n",
    "\n",
    "#\n",
    "param_summ=PrettyTable()\n",
    "param_summ.field_names=['Parameter', 'Value']"
   ]
  },
  {
   "cell_type": "markdown",
   "metadata": {
    "colab_type": "text",
    "id": "Yt09rvZmm7vB"
   },
   "source": [
    "## 1. XGBOOST-13:"
   ]
  },
  {
   "cell_type": "markdown",
   "metadata": {
    "colab_type": "text",
    "id": "RyOVZQmaHuEO"
   },
   "source": [
    "#### [1.1]Hyperparameter Tunnning: "
   ]
  },
  {
   "cell_type": "code",
   "execution_count": 230,
   "metadata": {
    "colab": {},
    "colab_type": "code",
    "id": "Y1c8AdIbnASS"
   },
   "outputs": [
    {
     "name": "stdout",
     "output_type": "stream",
     "text": [
      "HYPERPARAMETER:\n",
      "\n",
      "+------------------+-------------------------------+\n",
      "|    Parameter     |             Value             |\n",
      "+------------------+-------------------------------+\n",
      "|   n_estimators   |       [32, 64, 80, 100]       |\n",
      "|    max_depth     |           [5, 7, 9]           |\n",
      "| min_child_weight |           [1, 3, 5]           |\n",
      "|      gamma       |   [0.0, 0.1, 0.2, 0.3, 0.4]   |\n",
      "|    subsample     |      [0.6, 0.7, 0.8, 0.9]     |\n",
      "| colsample_bytree |      [0.6, 0.7, 0.8, 0.9]     |\n",
      "|    reg_alpha     | [0, 0.001, 0.005, 0.01, 0.05] |\n",
      "+------------------+-------------------------------+\n",
      "\n",
      "Tunning N_ESTIMATORS:\n",
      "Train RMSE: 0.8421 CV RMSE: 0.8624\n",
      "Train RMSE: 0.8235 CV RMSE: 0.8507\n",
      "Train RMSE: 0.8197 CV RMSE: 0.8507\n",
      "Train RMSE: 0.8157 CV RMSE: 0.8511\n",
      "\n",
      "Tunning MAX_DEPTH:\n",
      "Train RMSE: 0.8197 CV RMSE: 0.8507\n",
      "Train RMSE: 0.7778 CV RMSE: 0.8551\n",
      "Train RMSE: 0.7043 CV RMSE: 0.8640\n",
      "\n",
      "Tunning MIN_CHILD_WEIGHT:\n",
      "Train RMSE: 0.8197 CV RMSE: 0.8507\n",
      "Train RMSE: 0.8200 CV RMSE: 0.8505\n",
      "Train RMSE: 0.8203 CV RMSE: 0.8503\n",
      "\n",
      "Tunning GAMMA:\n",
      "Train RMSE: 0.8203 CV RMSE: 0.8503\n",
      "Train RMSE: 0.8203 CV RMSE: 0.8502\n",
      "Train RMSE: 0.8203 CV RMSE: 0.8501\n",
      "Train RMSE: 0.8202 CV RMSE: 0.8500\n",
      "Train RMSE: 0.8203 CV RMSE: 0.8501\n",
      "\n",
      "Tunning SUBSAMPLE:\n",
      "Train RMSE: 0.8212 CV RMSE: 0.8500\n",
      "Train RMSE: 0.8208 CV RMSE: 0.8503\n",
      "Train RMSE: 0.8202 CV RMSE: 0.8500\n",
      "Train RMSE: 0.8199 CV RMSE: 0.8503\n",
      "\n",
      "Tunning COLSAMPLE_BYTREE:\n",
      "Train RMSE: 0.8230 CV RMSE: 0.8492\n",
      "Train RMSE: 0.8208 CV RMSE: 0.8502\n",
      "Train RMSE: 0.8202 CV RMSE: 0.8500\n",
      "Train RMSE: 0.8194 CV RMSE: 0.8508\n",
      "\n",
      "Tunning REG_ALPHA:\n",
      "Train RMSE: 0.8230 CV RMSE: 0.8494\n",
      "Train RMSE: 0.8230 CV RMSE: 0.8494\n",
      "Train RMSE: 0.8229 CV RMSE: 0.8503\n",
      "Train RMSE: 0.8228 CV RMSE: 0.8502\n",
      "Train RMSE: 0.8228 CV RMSE: 0.8491\n",
      "\n",
      "CPU times: user 27.1 s, sys: 172 ms, total: 27.3 s\n",
      "Wall time: 1min 11s\n"
     ]
    }
   ],
   "source": [
    "%%time\n",
    "#TRAIN AND TEST DATA FOR XGBOOST MODELS\n",
    "train, test = train_reg.drop([\"user\", \"movie\", \"rating\"], axis = 1), test_reg.drop([\"user\", \"movie\", \"rating\"], axis = 1)\n",
    "y_train, y_test = train_reg[\"rating\"], test_reg[\"rating\"]\n",
    "print('HYPERPARAMETER:\\n')\n",
    "param_list(params_range, param_summ)\n",
    "print()\n",
    "model, params_ = tuneALL_PARAM_XGB(train, y_train, CV, params_range, params_, searchMethod[1])"
   ]
  },
  {
   "cell_type": "markdown",
   "metadata": {},
   "source": [
    "#### [1.2]Optimal value of parameters after tunning:"
   ]
  },
  {
   "cell_type": "code",
   "execution_count": 231,
   "metadata": {},
   "outputs": [
    {
     "name": "stdout",
     "output_type": "stream",
     "text": [
      "Optimal Value of Hyperparameters after Tunning:\n",
      "\n",
      "+------------------+-------+\n",
      "|    Parameter     | Value |\n",
      "+------------------+-------+\n",
      "|   n_estimators   |   80  |\n",
      "|    max_depth     |   5   |\n",
      "| min_child_weight |   5   |\n",
      "|      gamma       |  0.3  |\n",
      "|    subsample     |  0.8  |\n",
      "| colsample_bytree |  0.6  |\n",
      "|    reg_alpha     |  0.05 |\n",
      "+------------------+-------+\n"
     ]
    }
   ],
   "source": [
    "print('Optimal Value of Hyperparameters after Tunning:\\n')\n",
    "param_list(params_,param_summ)\n"
   ]
  },
  {
   "cell_type": "markdown",
   "metadata": {
    "colab_type": "text",
    "id": "m5llrbHC-juq"
   },
   "source": [
    "#### [1.3]Test performance :"
   ]
  },
  {
   "cell_type": "code",
   "execution_count": 232,
   "metadata": {
    "colab": {},
    "colab_type": "code",
    "id": "U6yVmcej-fGc"
   },
   "outputs": [
    {
     "name": "stdout",
     "output_type": "stream",
     "text": [
      "FOR OPTIMAL PARAMETERS, TRAIN RMSE: 0.82606,  TEST RMSE: 1.07701\n"
     ]
    },
    {
     "data": {
      "image/png": "[encoded data removed]",
      "text/plain": [
       "<Figure size 576x432 with 1 Axes>"
      ]
     },
     "metadata": {
      "needs_background": "light"
     },
     "output_type": "display_data"
    },
    {
     "name": "stdout",
     "output_type": "stream",
     "text": [
      "CPU times: user 4.62 s, sys: 1.86 s, total: 6.48 s\n",
      "Wall time: 3.83 s\n"
     ]
    }
   ],
   "source": [
    "%%time\n",
    "train_result, test_result, model_summ_local=test_performance_xgb(train, y_train, test, y_test,\\\n",
    "                                                                 params_, model_summary, model_name[0], summary=True)\n",
    "\n",
    "#SAVE THE TEST RESULTS TO DICT OF DICT\n",
    "models_evaluation_train[model_name[0]] = train_result\n",
    "models_evaluation_test[model_name[0]] = test_result"
   ]
  },
  {
   "cell_type": "markdown",
   "metadata": {},
   "source": [
    "#### [1.4] Model Summary:"
   ]
  },
  {
   "cell_type": "code",
   "execution_count": 233,
   "metadata": {},
   "outputs": [
    {
     "name": "stdout",
     "output_type": "stream",
     "text": [
      "+------------------+-------------+-------------+------------+------------+\n",
      "|      Model       | Train(RMSE) | Train(MAPE) | Test(RMSE) | Test(MAPE) |\n",
      "+------------------+-------------+-------------+------------+------------+\n",
      "| XGBOOST-13-FEATS |   0.82606   |   24.16566  |  1.07701   |  33.59137  |\n",
      "+------------------+-------------+-------------+------------+------------+\n"
     ]
    }
   ],
   "source": [
    "#MODEL SUMMARY\n",
    "print(model_summ_local)"
   ]
  },
  {
   "cell_type": "markdown",
   "metadata": {
    "colab_type": "text",
    "id": "Uob0mhlHAfe_"
   },
   "source": [
    "# ============================================================="
   ]
  },
  {
   "cell_type": "markdown",
   "metadata": {
    "colab_type": "text",
    "id": "ji2H102-Apuc"
   },
   "source": [
    "## 2. BaselineOnly:\n",
    " >$   \\large {\\hat{r}_{ui} = b_{ui} =\\mu + b_u + b_i} $\n",
    "\n",
    "\n",
    "- $\\pmb \\mu $ : Average of all trainings in training data.\n",
    "- $\\pmb b_u$ : User bias\n",
    "- $\\pmb b_i$ : Item bias (movie biases)\n",
    "\n",
    "Optimization function:\n",
    "\n",
    "> $ \\large \\sum_{r_{ui} \\in R_{train}} \\left(r_{ui} - (\\mu + b_u + b_i)\\right)^2 +\n",
    "\\lambda \\left(b_u^2 + b_i^2 \\right).\\text {        [mimimize } {b_u, b_i]}$ "
   ]
  },
  {
   "cell_type": "markdown",
   "metadata": {
    "colab_type": "text",
    "id": "je7N3JDMApul"
   },
   "source": [
    "#### [a.] Hyperparam Tunning:"
   ]
  },
  {
   "cell_type": "code",
   "execution_count": 234,
   "metadata": {
    "colab": {},
    "colab_type": "code",
    "id": "2tvhFNp9Apum",
    "scrolled": false
   },
   "outputs": [
    {
     "name": "stdout",
     "output_type": "stream",
     "text": [
      "HYPERPARAMETER:\n",
      "\n",
      "+-------------+--------------------------------------------------------------------------------------+\n",
      "|  Parameter  |                                        Value                                         |\n",
      "+-------------+--------------------------------------------------------------------------------------+\n",
      "| bsl_options | {'method': ['sgd'], 'n_epochs': [10, 20], 'learning_rate': [0.001, 0.01, 0.05, 0.1]} |\n",
      "+-------------+--------------------------------------------------------------------------------------+\n",
      "Train RMSE: 0.9780 CV RMSE: 0.9899\n",
      "Train RMSE: 0.8758 CV RMSE: 0.9525\n",
      "Train RMSE: 0.7894 CV RMSE: 0.9767\n",
      "Train RMSE: 0.7777 CV RMSE: 1.0077\n",
      "Train RMSE: 0.9564 CV RMSE: 0.9779\n",
      "Train RMSE: 0.8309 CV RMSE: 0.9510\n",
      "Train RMSE: 0.7647 CV RMSE: 0.9968\n",
      "Train RMSE: 0.7687 CV RMSE: 1.0247\n",
      "\n",
      "\n",
      "Best RMSE: 0.95096 For Optimal Params Combination Value:\n",
      "\t[1.]Learning-Rate: 0.0100 \n",
      "\t[2.]Epochs: 20\n",
      "CPU times: user 44.4 s, sys: 84 ms, total: 44.5 s\n",
      "Wall time: 45.2 s\n"
     ]
    }
   ],
   "source": [
    "%%time\n",
    "#MODEL USED\n",
    "clf = BaselineOnly\n",
    "\n",
    "#DICTIONARY OF HYPERPARAM TO BE TUNED \n",
    "params['bsl_options']=bsl_options\n",
    "\n",
    "print('HYPERPARAMETER:\\n')\n",
    "param_list(params, param_summ)\n",
    "\n",
    "#HYPERPARAM TUNNING\n",
    "model = hyperparamTUNNING(clf, data, params, CV_, 'bsl', searchMethod[1])"
   ]
  },
  {
   "cell_type": "markdown",
   "metadata": {
    "colab_type": "text",
    "id": "bO3CA6qjApuo"
   },
   "source": [
    "#### [b.]Performance on test data and summary:"
   ]
  },
  {
   "cell_type": "code",
   "execution_count": 235,
   "metadata": {
    "colab": {},
    "colab_type": "code",
    "id": "eIEHEBfLApuq"
   },
   "outputs": [
    {
     "name": "stdout",
     "output_type": "stream",
     "text": [
      "Estimating biases using sgd...\n",
      "Performance Summary (WITH OPTIMAL VALUE OF PARAMETERS):\n",
      "+--------------+-------------+-------------+------------+------------+\n",
      "|    Model     | Train(RMSE) | Train(MAPE) | Test(RMSE) | Test(MAPE) |\n",
      "+--------------+-------------+-------------+------------+------------+\n",
      "| BaselineOnly |   0.83552   |   25.25685  |  1.07429   |  35.12019  |\n",
      "+--------------+-------------+-------------+------------+------------+\n",
      "CPU times: user 828 ms, sys: 4 ms, total: 832 ms\n",
      "Wall time: 830 ms\n"
     ]
    }
   ],
   "source": [
    "%%time\n",
    "#INITIALIZE CLASSIFIER WITH BEST PARAMS VALUE\n",
    "clf=BaselineOnly(bsl_options=model.best_params['rmse']['bsl_options'])\n",
    "#MEASURE PERFORMANCE ON TEST DATA\n",
    "train_result, test_result, model_summ_local=testPerformance(clf,trainset, testset, train_reg, test_reg,\\\n",
    "                                 model_name[1],model_summary, add_to_xgboost=True)\n",
    "#SAVE THE TEST RESULTS TO DICT OF DICT\n",
    "models_evaluation_train[model_name[1]] = train_result\n",
    "models_evaluation_test[model_name[1]] = test_result\n",
    "\n",
    "#PRINT PERFROMANCE SUMMARY \n",
    "print(model_summ_local)"
   ]
  },
  {
   "cell_type": "markdown",
   "metadata": {},
   "source": [
    "# ============================================================"
   ]
  },
  {
   "cell_type": "markdown",
   "metadata": {
    "colab_type": "text",
    "id": "5QsJvy23BB-Y"
   },
   "source": [
    "## 3. XGBOOST(13 + BSL):"
   ]
  },
  {
   "cell_type": "markdown",
   "metadata": {
    "colab_type": "text",
    "id": "EUhJMaNtozLu"
   },
   "source": [
    "#### [3.1.] Hyperparameter Tunning:"
   ]
  },
  {
   "cell_type": "code",
   "execution_count": 236,
   "metadata": {},
   "outputs": [
    {
     "name": "stdout",
     "output_type": "stream",
     "text": [
      "HYPERPARAMETER:\n",
      "\n",
      "+------------------+-------------------------------+\n",
      "|    Parameter     |             Value             |\n",
      "+------------------+-------------------------------+\n",
      "|   n_estimators   |       [32, 64, 80, 100]       |\n",
      "|    max_depth     |           [5, 7, 9]           |\n",
      "| min_child_weight |           [1, 3, 5]           |\n",
      "|      gamma       |   [0.0, 0.1, 0.2, 0.3, 0.4]   |\n",
      "|    subsample     |      [0.6, 0.7, 0.8, 0.9]     |\n",
      "| colsample_bytree |      [0.6, 0.7, 0.8, 0.9]     |\n",
      "|    reg_alpha     | [0, 0.001, 0.005, 0.01, 0.05] |\n",
      "+------------------+-------------------------------+\n",
      "\n",
      "Tunning N_ESTIMATORS:\n",
      "Train RMSE: 0.8435 CV RMSE: 0.8628\n",
      "Train RMSE: 0.8255 CV RMSE: 0.8502\n",
      "Train RMSE: 0.8220 CV RMSE: 0.8502\n",
      "Train RMSE: 0.8179 CV RMSE: 0.8506\n",
      "\n",
      "Tunning MAX_DEPTH:\n",
      "Train RMSE: 0.8220 CV RMSE: 0.8502\n",
      "Train RMSE: 0.7852 CV RMSE: 0.8533\n",
      "Train RMSE: 0.7253 CV RMSE: 0.8579\n",
      "\n",
      "Tunning MIN_CHILD_WEIGHT:\n",
      "Train RMSE: 0.8216 CV RMSE: 0.8505\n",
      "Train RMSE: 0.8217 CV RMSE: 0.8504\n",
      "Train RMSE: 0.8220 CV RMSE: 0.8502\n",
      "\n",
      "Tunning GAMMA:\n",
      "Train RMSE: 0.8220 CV RMSE: 0.8503\n",
      "Train RMSE: 0.8219 CV RMSE: 0.8503\n",
      "Train RMSE: 0.8219 CV RMSE: 0.8502\n",
      "Train RMSE: 0.8220 CV RMSE: 0.8502\n",
      "Train RMSE: 0.8220 CV RMSE: 0.8501\n",
      "\n",
      "Tunning SUBSAMPLE:\n",
      "Train RMSE: 0.8227 CV RMSE: 0.8505\n",
      "Train RMSE: 0.8223 CV RMSE: 0.8510\n",
      "Train RMSE: 0.8220 CV RMSE: 0.8501\n",
      "Train RMSE: 0.8215 CV RMSE: 0.8504\n",
      "\n",
      "Tunning COLSAMPLE_BYTREE:\n",
      "Train RMSE: 0.8220 CV RMSE: 0.8501\n",
      "Train RMSE: 0.8207 CV RMSE: 0.8507\n",
      "Train RMSE: 0.8190 CV RMSE: 0.8508\n",
      "Train RMSE: 0.8182 CV RMSE: 0.8505\n",
      "\n",
      "Tunning REG_ALPHA:\n",
      "Train RMSE: 0.8221 CV RMSE: 0.8504\n",
      "Train RMSE: 0.8221 CV RMSE: 0.8505\n",
      "Train RMSE: 0.8220 CV RMSE: 0.8507\n",
      "Train RMSE: 0.8220 CV RMSE: 0.8507\n",
      "Train RMSE: 0.8220 CV RMSE: 0.8501\n",
      "\n",
      "CPU times: user 25.8 s, sys: 164 ms, total: 26 s\n",
      "Wall time: 1min 8s\n"
     ]
    }
   ],
   "source": [
    "%%time\n",
    "#TRAIN AND TEST DATA FOR XGBOOST MODELS\n",
    "train, test = train_reg.drop([\"user\", \"movie\", \"rating\"], axis = 1), test_reg.drop([\"user\", \"movie\", \"rating\"], axis = 1)\n",
    "y_train, y_test = train_reg[\"rating\"], test_reg[\"rating\"]\n",
    "print('HYPERPARAMETER:\\n')\n",
    "param_list(params_range, param_summ)\n",
    "print()\n",
    "model, params_ = tuneALL_PARAM_XGB(train, y_train, CV, params_range, params_, searchMethod[1])"
   ]
  },
  {
   "cell_type": "markdown",
   "metadata": {},
   "source": [
    "#### [3.2]Optimal value of parameters after tunning:"
   ]
  },
  {
   "cell_type": "code",
   "execution_count": 237,
   "metadata": {
    "scrolled": true
   },
   "outputs": [
    {
     "name": "stdout",
     "output_type": "stream",
     "text": [
      "Optimal Value of Hyperparameters after Tunning:\n",
      "\n",
      "+------------------+-------+\n",
      "|    Parameter     | Value |\n",
      "+------------------+-------+\n",
      "|   n_estimators   |   80  |\n",
      "|    max_depth     |   5   |\n",
      "| min_child_weight |   5   |\n",
      "|      gamma       |  0.4  |\n",
      "|    subsample     |  0.8  |\n",
      "| colsample_bytree |  0.6  |\n",
      "|    reg_alpha     |  0.05 |\n",
      "+------------------+-------+\n"
     ]
    }
   ],
   "source": [
    "print('Optimal Value of Hyperparameters after Tunning:\\n')\n",
    "param_list(params_,param_summ)\n"
   ]
  },
  {
   "cell_type": "markdown",
   "metadata": {
    "colab_type": "text",
    "id": "m5llrbHC-juq"
   },
   "source": [
    "#### [3.3]Test performance :"
   ]
  },
  {
   "cell_type": "code",
   "execution_count": 238,
   "metadata": {
    "colab": {},
    "colab_type": "code",
    "id": "U6yVmcej-fGc"
   },
   "outputs": [
    {
     "name": "stdout",
     "output_type": "stream",
     "text": [
      "FOR OPTIMAL PARAMETERS, TRAIN RMSE: 0.82509,  TEST RMSE: 1.06767\n"
     ]
    },
    {
     "data": {
      "image/png": "[encoded data removed]",
      "text/plain": [
       "<Figure size 576x432 with 1 Axes>"
      ]
     },
     "metadata": {
      "needs_background": "light"
     },
     "output_type": "display_data"
    },
    {
     "name": "stdout",
     "output_type": "stream",
     "text": [
      "CPU times: user 4.33 s, sys: 300 ms, total: 4.63 s\n",
      "Wall time: 4.18 s\n"
     ]
    }
   ],
   "source": [
    "%%time\n",
    "train_result, test_result, model_local_summ=test_performance_xgb(train, y_train, test, y_test,\\\n",
    "                                                                 params_, model_summary, model_name[2], summary=True)\n",
    "\n",
    "#SAVE THE TEST RESULTS TO DICT OF DICT\n",
    "models_evaluation_train[model_name[2]] = train_result\n",
    "models_evaluation_test[model_name[2]] = test_result"
   ]
  },
  {
   "cell_type": "markdown",
   "metadata": {},
   "source": [
    "#### [3.4]Model Summary:"
   ]
  },
  {
   "cell_type": "code",
   "execution_count": 239,
   "metadata": {},
   "outputs": [
    {
     "name": "stdout",
     "output_type": "stream",
     "text": [
      "+-------------+-------------+-------------+------------+------------+\n",
      "|    Model    | Train(RMSE) | Train(MAPE) | Test(RMSE) | Test(MAPE) |\n",
      "+-------------+-------------+-------------+------------+------------+\n",
      "| XGBOOST-BSL |   0.82509   |   24.14721  |  1.06767   |  34.57024  |\n",
      "+-------------+-------------+-------------+------------+------------+\n"
     ]
    }
   ],
   "source": [
    "#MODEL SUMMARY\n",
    "print(model_local_summ)"
   ]
  },
  {
   "cell_type": "markdown",
   "metadata": {
    "colab_type": "text",
    "id": "Qy3aZfCVHPsg"
   },
   "source": [
    "# ============================================================"
   ]
  },
  {
   "cell_type": "markdown",
   "metadata": {},
   "source": [
    "### 4.KNNBaseline-U-U:\n",
    "Based on User-User similarity\n",
    "\\begin{align} \\hat{r}_{ui} = b_{ui} + \\frac{ \\sum\\limits_{v \\in N^k_i(u)}\n",
    "\\text{sim}(u, v) \\cdot (r_{vi} - b_{vi})} {\\sum\\limits_{v \\in\n",
    "N^k_i(u)} \\text{sim}(u, v)} \\end{align}\n",
    "Based on Item-Item similarity\n",
    "\\begin{align} \\hat{r}_{ui} = b_{ui} + \\frac{ \\sum\\limits_{j \\in N^k_u(i)}\\text{sim}(i, j) \\cdot (r_{uj} - b_{uj})} {\\sum\\limits_{j \\in N^k_u(j)} \\text{sim}(i, j)} \\end{align}\n",
    "- $\\pmb{b_{ui}}$ -  _Baseline prediction_ of (user,movie) rating\n",
    "\n",
    "- $ \\pmb {N_i^k (u)}$ - Set of __K similar__ users (neighbours) of __user (u)__ who rated __movie(i)__  \n",
    "\n",
    "- _sim (u, v)_ - __Similarity__ between users __u and v__  \n",
    "    - Generally, it will be cosine similarity or Pearson correlation coefficient. \n",
    "    - But we use __shrunk Pearson-baseline correlation coefficient__, which is based on the pearsonBaseline similarity ( we take base line predictions instead of mean rating of user/item)\n",
    "Based on Item-Item similarity\n"
   ]
  },
  {
   "cell_type": "markdown",
   "metadata": {
    "colab_type": "text",
    "id": "gD1ik9XsBB-k"
   },
   "source": [
    "#### [a.] Hyperparam Tunning:"
   ]
  },
  {
   "cell_type": "code",
   "execution_count": 240,
   "metadata": {
    "colab": {},
    "colab_type": "code",
    "id": "FODk7q4LBB-m"
   },
   "outputs": [
    {
     "name": "stdout",
     "output_type": "stream",
     "text": [
      "HYPERPARAMETER:\n",
      "\n",
      "+-------------+----------------------------------------------------------------------------------------+\n",
      "|  Parameter  |                                         Value                                          |\n",
      "+-------------+----------------------------------------------------------------------------------------+\n",
      "|      k      |                                    [20, 30, 40, 60]                                    |\n",
      "| bsl_options |  {'method': ['sgd'], 'n_epochs': [10, 20], 'learning_rate': [0.001, 0.01, 0.05, 0.1]}  |\n",
      "| sim_options | {'user_based': [True], 'shrinkage': [80, 100, 120, 140], 'name': ['pearson_baseline']} |\n",
      "|    min_k    |                                          [1]                                           |\n",
      "+-------------+----------------------------------------------------------------------------------------+\n",
      "\n",
      "Train RMSE: 0.1190 CV RMSE: 0.9583\n",
      "Train RMSE: 0.1356 CV RMSE: 0.9664\n",
      "Train RMSE: 0.1151 CV RMSE: 0.9549\n",
      "Train RMSE: 0.2085 CV RMSE: 0.9655\n",
      "Train RMSE: 0.1289 CV RMSE: 0.9688\n",
      "Train RMSE: 0.1174 CV RMSE: 0.9708\n",
      "Train RMSE: 0.1117 CV RMSE: 1.0057\n",
      "Train RMSE: 0.1370 CV RMSE: 1.0026\n",
      "Train RMSE: 0.1308 CV RMSE: 0.9640\n",
      "Train RMSE: 0.1510 CV RMSE: 0.9725\n",
      "Train RMSE: 0.1647 CV RMSE: 1.0179\n",
      "Train RMSE: 0.1210 CV RMSE: 0.9603\n",
      "Train RMSE: 0.1301 CV RMSE: 1.0015\n",
      "Train RMSE: 0.0965 CV RMSE: 0.9770\n",
      "Train RMSE: 0.1618 CV RMSE: 0.9655\n",
      "Train RMSE: 0.1789 CV RMSE: 1.0179\n",
      "Train RMSE: 0.1276 CV RMSE: 1.0188\n",
      "Train RMSE: 0.1083 CV RMSE: 0.9770\n",
      "Train RMSE: 0.1438 CV RMSE: 0.9549\n",
      "Train RMSE: 0.1252 CV RMSE: 1.0230\n",
      "\n",
      "\n",
      "Best RMSE: 0.95492 For Optimal Params Combination Value:\n",
      "\t[1.]K: 30 \n",
      "\t[2.]shrinkage: 120 \n",
      "\t[3.]lerning_rate: 0.0100 \n",
      "\t[4.]Epochs: 20\n",
      "CPU times: user 2min 48s, sys: 132 ms, total: 2min 48s\n",
      "Wall time: 13min 7s\n"
     ]
    }
   ],
   "source": [
    "%%time\n",
    "#DICT HYPERPARAM \n",
    "params['k']=k\n",
    "params['min_k']=min_k\n",
    "params['sim_options']=sim_options\n",
    "print('HYPERPARAMETER:\\n')\n",
    "param_list(params, param_summ)\n",
    "print()\n",
    "#HYPERPARAM TUNNING\n",
    "clf=KNNBaseline\n",
    "model = hyperparamTUNNING(clf, data, params, CV_, 'knn', searchMethod[0])"
   ]
  },
  {
   "cell_type": "markdown",
   "metadata": {
    "colab_type": "text",
    "id": "5THZYTIqBB-r"
   },
   "source": [
    "#### [b.]Performance on test data:"
   ]
  },
  {
   "cell_type": "code",
   "execution_count": 241,
   "metadata": {
    "colab": {},
    "colab_type": "code",
    "id": "S4F-aQpSBB-r"
   },
   "outputs": [
    {
     "name": "stdout",
     "output_type": "stream",
     "text": [
      "Estimating biases using sgd...\n",
      "Computing the pearson_baseline similarity matrix...\n",
      "Done computing similarity matrix.\n",
      "Performance Summary (WITH OPTIMAL VALUE OF PARAMETERS):\n",
      "+-----------------+-------------+-------------+------------+------------+\n",
      "|      Model      | Train(RMSE) | Train(MAPE) | Test(RMSE) | Test(MAPE) |\n",
      "+-----------------+-------------+-------------+------------+------------+\n",
      "| KNNBaseline-U-U |   0.14034   |   3.41399   |  1.07426   |  35.11784  |\n",
      "+-----------------+-------------+-------------+------------+------------+\n",
      "CPU times: user 2min, sys: 7.64 s, total: 2min 8s\n",
      "Wall time: 2min 8s\n"
     ]
    }
   ],
   "source": [
    "%%time\n",
    "#INITIALIZE CLASSIFIER WITH BEST PARAMS VALUE\n",
    "clf=KNNBaseline(k=model.best_params['rmse']['k'],\\\n",
    "           bsl_options=model.best_params['rmse']['bsl_options'],\\\n",
    "           sim_options=model.best_params['rmse']['sim_options'],\\\n",
    "           min_k=model.best_params['rmse']['min_k'])\n",
    "\n",
    "#MEASURE PERFORMANCE ON TEST DATA\n",
    "train_result, test_result, model_summ_local=testPerformance(clf, trainset, testset, train_reg, test_reg, model_name[3], \\\n",
    "                                                            model_summary=model_summary, add_to_xgboost=True)\n",
    "#SAVE THE TEST RESULTS TO DICT OF DICT\n",
    "models_evaluation_train[model_name[3]] = train_result\n",
    "models_evaluation_test[model_name[3]] = test_result\n",
    "\n",
    "#PRINT PERFROMANCE SUMMARY \n",
    "print(model_summ_local)"
   ]
  },
  {
   "cell_type": "markdown",
   "metadata": {},
   "source": [
    "# ============================================================"
   ]
  },
  {
   "cell_type": "markdown",
   "metadata": {
    "colab_type": "text",
    "id": "9uqlAeqR_kbz"
   },
   "source": [
    "## 5.KNNBaseline-I-I:"
   ]
  },
  {
   "cell_type": "markdown",
   "metadata": {
    "colab_type": "text",
    "id": "ZSqx6vZT3-vr"
   },
   "source": [
    "#### [a.] Hyperparam Tunning:"
   ]
  },
  {
   "cell_type": "code",
   "execution_count": 242,
   "metadata": {
    "colab": {},
    "colab_type": "code",
    "id": "N29In_VCgC4_"
   },
   "outputs": [
    {
     "name": "stdout",
     "output_type": "stream",
     "text": [
      "HYPERPARAMETER:\n",
      "\n",
      "+-------------+-----------------------------------------------------------------------------------------+\n",
      "|  Parameter  |                                          Value                                          |\n",
      "+-------------+-----------------------------------------------------------------------------------------+\n",
      "|      k      |                                     [20, 30, 40, 60]                                    |\n",
      "| bsl_options |   {'method': ['sgd'], 'n_epochs': [10, 20], 'learning_rate': [0.001, 0.01, 0.05, 0.1]}  |\n",
      "| sim_options | {'user_based': [False], 'shrinkage': [80, 100, 120, 140], 'name': ['pearson_baseline']} |\n",
      "|    min_k    |                                           [1]                                           |\n",
      "+-------------+-----------------------------------------------------------------------------------------+\n",
      "\n",
      "Train RMSE: 0.1022 CV RMSE: 1.0509\n",
      "Train RMSE: 0.0856 CV RMSE: 1.0512\n",
      "Train RMSE: 0.0498 CV RMSE: 1.0467\n",
      "Train RMSE: 0.0955 CV RMSE: 1.0510\n",
      "Train RMSE: 0.0496 CV RMSE: 1.0867\n",
      "Train RMSE: 0.2770 CV RMSE: 1.0339\n",
      "Train RMSE: 0.0458 CV RMSE: 1.0559\n",
      "Train RMSE: 0.0421 CV RMSE: 1.0559\n",
      "Train RMSE: 0.0590 CV RMSE: 1.0758\n",
      "Train RMSE: 0.0545 CV RMSE: 1.0468\n",
      "Train RMSE: 0.0604 CV RMSE: 1.0468\n",
      "Train RMSE: 0.0654 CV RMSE: 1.0758\n",
      "Train RMSE: 0.2341 CV RMSE: 1.0331\n",
      "Train RMSE: 0.0460 CV RMSE: 1.0467\n",
      "Train RMSE: 0.2863 CV RMSE: 1.0335\n",
      "Train RMSE: 0.2770 CV RMSE: 1.0339\n",
      "Train RMSE: 0.0440 CV RMSE: 1.0689\n",
      "Train RMSE: 0.0901 CV RMSE: 1.0511\n",
      "Train RMSE: 0.0856 CV RMSE: 1.0512\n",
      "Train RMSE: 0.1022 CV RMSE: 1.0509\n",
      "\n",
      "\n",
      "Best RMSE: 1.03314 For Optimal Params Combination Value:\n",
      "\t[1.]K: 60 \n",
      "\t[2.]shrinkage: 140 \n",
      "\t[3.]lerning_rate: 0.0010 \n",
      "\t[4.]Epochs: 20\n",
      "CPU times: user 1min 46s, sys: 256 ms, total: 1min 46s\n",
      "Wall time: 1min 48s\n"
     ]
    }
   ],
   "source": [
    "%%time\n",
    "#DICT OF HYPERPARAM\n",
    "params['sim_options']['user_based'][0]=False\n",
    "print('HYPERPARAMETER:\\n')\n",
    "param_list(params, param_summ)\n",
    "print()\n",
    "#HYPERPARAM TUNNING\n",
    "clf=KNNBaseline\n",
    "model = hyperparamTUNNING(clf, data, params, CV, 'knn', searchMethod[0])"
   ]
  },
  {
   "cell_type": "markdown",
   "metadata": {
    "colab_type": "text",
    "id": "4yZ_ahv-4DHk"
   },
   "source": [
    "#### [b.]Performance on test data and summary:"
   ]
  },
  {
   "cell_type": "code",
   "execution_count": 244,
   "metadata": {
    "colab": {},
    "colab_type": "code",
    "id": "Q2Ft_lx_n_ki"
   },
   "outputs": [
    {
     "name": "stdout",
     "output_type": "stream",
     "text": [
      "Estimating biases using sgd...\n",
      "Computing the pearson_baseline similarity matrix...\n",
      "Done computing similarity matrix.\n",
      "Performance Summary (WITH OPTIMAL VALUE OF PARAMETERS):\n",
      "+-----------------+-------------+-------------+------------+------------+\n",
      "|      Model      | Train(RMSE) | Train(MAPE) | Test(RMSE) | Test(MAPE) |\n",
      "+-----------------+-------------+-------------+------------+------------+\n",
      "| KNNBaseline-I-I |   0.27398   |   6.45966   |  1.07461   |  35.19819  |\n",
      "+-----------------+-------------+-------------+------------+------------+\n",
      "CPU times: user 2.29 s, sys: 8 ms, total: 2.3 s\n",
      "Wall time: 2.3 s\n"
     ]
    }
   ],
   "source": [
    "%%time\n",
    "#INITIALIZE CLASSIFIER WITH BEST PARAMS VALUE\n",
    "clf=KNNBaseline(k=model.best_params['rmse']['k'],\\\n",
    "           bsl_options=model.best_params['rmse']['bsl_options'],\\\n",
    "           sim_options=model.best_params['rmse']['sim_options'],\\\n",
    "           min_k=model.best_params['rmse']['min_k'])\n",
    "\n",
    "#MEASURE PERFORMANCE ON TEST DATA\n",
    "train_result, test_result, model_summ_local=testPerformance(clf, trainset, testset, train_reg, test_reg, model_name[4], \\\n",
    "                                                            model_summary=model_summary, add_to_xgboost=True)\n",
    "\n",
    "#SAVE THE TEST RESULTS TO DICT OF DICT\n",
    "models_evaluation_train[model_name[4]] = train_result\n",
    "models_evaluation_test[model_name[4]] = test_result\n",
    "\n",
    "#PRINT PERFROMANCE SUMMARY \n",
    "print(model_summ_local)"
   ]
  },
  {
   "cell_type": "markdown",
   "metadata": {},
   "source": [
    "# ============================================================"
   ]
  },
  {
   "cell_type": "markdown",
   "metadata": {},
   "source": [
    "## 6.XGBOOST(13 + BSL + KNN)"
   ]
  },
  {
   "cell_type": "markdown",
   "metadata": {},
   "source": [
    "#### [6.1.] Hyperparameter Tunning:"
   ]
  },
  {
   "cell_type": "code",
   "execution_count": 245,
   "metadata": {},
   "outputs": [
    {
     "name": "stdout",
     "output_type": "stream",
     "text": [
      "HYPERPARAMETER:\n",
      "\n",
      "+------------------+-------------------------------+\n",
      "|    Parameter     |             Value             |\n",
      "+------------------+-------------------------------+\n",
      "|   n_estimators   |       [32, 64, 80, 100]       |\n",
      "|    max_depth     |           [5, 7, 9]           |\n",
      "| min_child_weight |           [1, 3, 5]           |\n",
      "|      gamma       |   [0.0, 0.1, 0.2, 0.3, 0.4]   |\n",
      "|    subsample     |      [0.6, 0.7, 0.8, 0.9]     |\n",
      "| colsample_bytree |      [0.6, 0.7, 0.8, 0.9]     |\n",
      "|    reg_alpha     | [0, 0.001, 0.005, 0.01, 0.05] |\n",
      "+------------------+-------------------------------+\n",
      "\n",
      "Tunning N_ESTIMATORS:\n",
      "Train RMSE: 0.8430 CV RMSE: 0.8606\n",
      "Train RMSE: 0.8240 CV RMSE: 0.8498\n",
      "Train RMSE: 0.8201 CV RMSE: 0.8497\n",
      "Train RMSE: 0.8153 CV RMSE: 0.8500\n",
      "\n",
      "Tunning MAX_DEPTH:\n",
      "Train RMSE: 0.8201 CV RMSE: 0.8497\n",
      "Train RMSE: 0.7793 CV RMSE: 0.8536\n",
      "Train RMSE: 0.7095 CV RMSE: 0.8596\n",
      "\n",
      "Tunning MIN_CHILD_WEIGHT:\n",
      "Train RMSE: 0.8193 CV RMSE: 0.8503\n",
      "Train RMSE: 0.8195 CV RMSE: 0.8501\n",
      "Train RMSE: 0.8201 CV RMSE: 0.8497\n",
      "\n",
      "Tunning GAMMA:\n",
      "Train RMSE: 0.8200 CV RMSE: 0.8497\n",
      "Train RMSE: 0.8200 CV RMSE: 0.8498\n",
      "Train RMSE: 0.8202 CV RMSE: 0.8502\n",
      "Train RMSE: 0.8202 CV RMSE: 0.8500\n",
      "Train RMSE: 0.8201 CV RMSE: 0.8497\n",
      "\n",
      "Tunning SUBSAMPLE:\n",
      "Train RMSE: 0.8214 CV RMSE: 0.8514\n",
      "Train RMSE: 0.8204 CV RMSE: 0.8501\n",
      "Train RMSE: 0.8200 CV RMSE: 0.8497\n",
      "Train RMSE: 0.8192 CV RMSE: 0.8500\n",
      "\n",
      "Tunning COLSAMPLE_BYTREE:\n",
      "Train RMSE: 0.8200 CV RMSE: 0.8497\n",
      "Train RMSE: 0.8181 CV RMSE: 0.8504\n",
      "Train RMSE: 0.8178 CV RMSE: 0.8500\n",
      "Train RMSE: 0.8169 CV RMSE: 0.8505\n",
      "\n",
      "Tunning REG_ALPHA:\n",
      "Train RMSE: 0.8200 CV RMSE: 0.8500\n",
      "Train RMSE: 0.8200 CV RMSE: 0.8500\n",
      "Train RMSE: 0.8199 CV RMSE: 0.8496\n",
      "Train RMSE: 0.8199 CV RMSE: 0.8497\n",
      "Train RMSE: 0.8200 CV RMSE: 0.8497\n",
      "\n",
      "CPU times: user 28.8 s, sys: 548 ms, total: 29.4 s\n",
      "Wall time: 1min 19s\n"
     ]
    }
   ],
   "source": [
    "%%time\n",
    "#TRAIN AND TEST DATA FOR XGBOOST MODELS\n",
    "train, test = train_reg.drop([\"user\", \"movie\", \"rating\"], axis = 1), test_reg.drop([\"user\", \"movie\", \"rating\"], axis = 1)\n",
    "y_train, y_test = train_reg[\"rating\"], test_reg[\"rating\"]\n",
    "print('HYPERPARAMETER:\\n')\n",
    "param_list(params_range, param_summ)\n",
    "print()\n",
    "model, params_ = tuneALL_PARAM_XGB(train, y_train, CV, params_range, params_, searchMethod[1])"
   ]
  },
  {
   "cell_type": "markdown",
   "metadata": {},
   "source": [
    "#### [6.2]Optimal value of parameters after tunning:"
   ]
  },
  {
   "cell_type": "code",
   "execution_count": 246,
   "metadata": {},
   "outputs": [
    {
     "name": "stdout",
     "output_type": "stream",
     "text": [
      "Optimal Value of Hyperparameters after Tunning:\n",
      "\n",
      "+------------------+-------+\n",
      "|    Parameter     | Value |\n",
      "+------------------+-------+\n",
      "|   n_estimators   |   80  |\n",
      "|    max_depth     |   5   |\n",
      "| min_child_weight |   5   |\n",
      "|      gamma       |  0.0  |\n",
      "|    subsample     |  0.8  |\n",
      "| colsample_bytree |  0.6  |\n",
      "|    reg_alpha     | 0.005 |\n",
      "+------------------+-------+\n"
     ]
    }
   ],
   "source": [
    "print('Optimal Value of Hyperparameters after Tunning:\\n')\n",
    "param_list(params_,param_summ)"
   ]
  },
  {
   "cell_type": "markdown",
   "metadata": {},
   "source": [
    "#### [6.3]Test Performance:"
   ]
  },
  {
   "cell_type": "code",
   "execution_count": 252,
   "metadata": {},
   "outputs": [
    {
     "name": "stdout",
     "output_type": "stream",
     "text": [
      "FOR OPTIMAL PARAMETERS, TRAIN RMSE: 0.82392,  TEST RMSE: 1.06919\n"
     ]
    },
    {
     "data": {
      "image/png": "[encoded data removed]",
      "text/plain": [
       "<Figure size 576x432 with 1 Axes>"
      ]
     },
     "metadata": {
      "needs_background": "light"
     },
     "output_type": "display_data"
    },
    {
     "name": "stdout",
     "output_type": "stream",
     "text": [
      "CPU times: user 4.86 s, sys: 320 ms, total: 5.18 s\n",
      "Wall time: 4.72 s\n"
     ]
    }
   ],
   "source": [
    "%%time\n",
    "train_result, test_result, model_summ_local=test_performance_xgb(train, y_train, test, y_test,\\\n",
    "                                                                 params_, model_summary, model_name[5], summary=True)\n",
    "\n",
    "#SAVE THE TEST RESULTS TO DICT OF DICT\n",
    "models_evaluation_train[model_name[5]] = train_result\n",
    "models_evaluation_test[model_name[5]] = test_result"
   ]
  },
  {
   "cell_type": "markdown",
   "metadata": {},
   "source": [
    "#### [6.4]Model Summary"
   ]
  },
  {
   "cell_type": "code",
   "execution_count": 253,
   "metadata": {},
   "outputs": [
    {
     "name": "stdout",
     "output_type": "stream",
     "text": [
      "+-------------+-------------+-------------+------------+------------+\n",
      "|    Model    | Train(RMSE) | Train(MAPE) | Test(RMSE) | Test(MAPE) |\n",
      "+-------------+-------------+-------------+------------+------------+\n",
      "| XGBOOST-KNN |   0.82392   |   24.12600  |  1.06919   |  34.61556  |\n",
      "+-------------+-------------+-------------+------------+------------+\n"
     ]
    }
   ],
   "source": [
    "#MODEL SUMMARY\n",
    "print(model_summ_local)"
   ]
  },
  {
   "cell_type": "markdown",
   "metadata": {
    "colab_type": "text",
    "id": "Qy3aZfCVHPsg"
   },
   "source": [
    "# ============================================================"
   ]
  },
  {
   "cell_type": "markdown",
   "metadata": {},
   "source": [
    "## 7.SVD:\n",
    "Predicted Rating:\n",
    "- $ \\large  \\hat r_{ui} = \\mu + b_u + b_i + q_i^Tp_u $\n",
    "    \n",
    "- $\\pmb q_i$ - Representation of item(movie) in latent factor space\n",
    "        \n",
    "- $\\pmb p_u$ - Representation of user in new latent factor space\n",
    "\n",
    "Optimization problem:\n",
    "- $\\large \\sum_{r_{ui} \\in R_{train}} \\left(r_{ui} - \\hat{r}_{ui} \\right)^2 +\n",
    "\\lambda\\left(b_i^2 + b_u^2 + ||q_i||^2 + ||p_u||^2\\right) $"
   ]
  },
  {
   "cell_type": "markdown",
   "metadata": {},
   "source": [
    "#### [a.] Hyperparam tunning:"
   ]
  },
  {
   "cell_type": "code",
   "execution_count": 260,
   "metadata": {
    "scrolled": true
   },
   "outputs": [
    {
     "name": "stdout",
     "output_type": "stream",
     "text": [
      "HYPERPARAMETER:\n",
      "+-------------+-----------------------------------------------------------------------------------------+\n",
      "|  Parameter  |                                          Value                                          |\n",
      "+-------------+-----------------------------------------------------------------------------------------+\n",
      "|      k      |                                     [20, 30, 40, 60]                                    |\n",
      "| bsl_options |   {'method': ['sgd'], 'n_epochs': [10, 20], 'learning_rate': [0.001, 0.01, 0.05, 0.1]}  |\n",
      "| sim_options | {'user_based': [False], 'shrinkage': [80, 100, 120, 140], 'name': ['pearson_baseline']} |\n",
      "|    min_k    |                                           [1]                                           |\n",
      "+-------------+-----------------------------------------------------------------------------------------+\n",
      "\n",
      "Train RMSE: 0.9336 CV RMSE: 0.9719\n",
      "Train RMSE: 0.9372 CV RMSE: 0.9707\n",
      "Train RMSE: 0.9386 CV RMSE: 0.9710\n",
      "Train RMSE: 0.9392 CV RMSE: 0.9711\n",
      "Train RMSE: 0.9395 CV RMSE: 0.9711\n",
      "Train RMSE: 0.8963 CV RMSE: 0.9646\n",
      "Train RMSE: 0.9088 CV RMSE: 0.9621\n",
      "Train RMSE: 0.9125 CV RMSE: 0.9616\n",
      "Train RMSE: 0.9136 CV RMSE: 0.9614\n",
      "Train RMSE: 0.9144 CV RMSE: 0.9617\n",
      "Train RMSE: 0.8045 CV RMSE: 0.9713\n",
      "Train RMSE: 0.8730 CV RMSE: 0.9555\n",
      "Train RMSE: 0.8832 CV RMSE: 0.9547\n",
      "Train RMSE: 0.8852 CV RMSE: 0.9544\n",
      "Train RMSE: 0.8867 CV RMSE: 0.9544\n",
      "Train RMSE: 0.3556 CV RMSE: 1.1600\n",
      "Train RMSE: 0.4836 CV RMSE: 1.0688\n",
      "Train RMSE: 0.5878 CV RMSE: 1.0337\n",
      "Train RMSE: 0.6249 CV RMSE: 1.0216\n",
      "Train RMSE: 0.6457 CV RMSE: 1.0075\n",
      "Train RMSE: 0.8689 CV RMSE: 0.9629\n",
      "Train RMSE: 0.8958 CV RMSE: 0.9583\n",
      "Train RMSE: 0.9012 CV RMSE: 0.9578\n",
      "Train RMSE: 0.9025 CV RMSE: 0.9580\n",
      "Train RMSE: 0.9035 CV RMSE: 0.9580\n",
      "Train RMSE: 0.6977 CV RMSE: 0.9909\n",
      "Train RMSE: 0.8390 CV RMSE: 0.9538\n",
      "Train RMSE: 0.8655 CV RMSE: 0.9513\n",
      "Train RMSE: 0.8689 CV RMSE: 0.9512\n",
      "Train RMSE: 0.8713 CV RMSE: 0.9512\n",
      "Train RMSE: 0.5116 CV RMSE: 1.0449\n",
      "Train RMSE: 0.7111 CV RMSE: 0.9618\n",
      "Train RMSE: 0.8205 CV RMSE: 0.9497\n",
      "Train RMSE: 0.8322 CV RMSE: 0.9493\n",
      "Train RMSE: 0.8379 CV RMSE: 0.9492\n",
      "Train RMSE: 0.3016 CV RMSE: 1.1816\n",
      "Train RMSE: 0.4382 CV RMSE: 1.0816\n",
      "Train RMSE: 0.5564 CV RMSE: 1.0417\n",
      "Train RMSE: 0.5894 CV RMSE: 1.0267\n",
      "Train RMSE: 0.6072 CV RMSE: 1.0200\n",
      "Train RMSE: 0.7400 CV RMSE: 0.9820\n",
      "Train RMSE: 0.8553 CV RMSE: 0.9539\n",
      "Train RMSE: 0.8733 CV RMSE: 0.9521\n",
      "Train RMSE: 0.8763 CV RMSE: 0.9518\n",
      "Train RMSE: 0.8781 CV RMSE: 0.9520\n",
      "Train RMSE: 0.5270 CV RMSE: 1.0384\n",
      "Train RMSE: 0.7318 CV RMSE: 0.9582\n",
      "Train RMSE: 0.8265 CV RMSE: 0.9492\n",
      "Train RMSE: 0.8368 CV RMSE: 0.9487\n",
      "Train RMSE: 0.8418 CV RMSE: 0.9487\n",
      "Train RMSE: 0.3842 CV RMSE: 1.0875\n",
      "Train RMSE: 0.5369 CV RMSE: 0.9845\n",
      "Train RMSE: 0.7353 CV RMSE: 0.9535\n",
      "Train RMSE: 0.7822 CV RMSE: 0.9521\n",
      "Train RMSE: 0.8006 CV RMSE: 0.9508\n",
      "Train RMSE: 0.2823 CV RMSE: 1.1979\n",
      "Train RMSE: 0.4322 CV RMSE: 1.0847\n",
      "Train RMSE: 0.5496 CV RMSE: 1.0428\n",
      "Train RMSE: 0.5749 CV RMSE: 1.0258\n",
      "Train RMSE: 0.5926 CV RMSE: 1.0187\n",
      "Train RMSE: 0.6130 CV RMSE: 1.0130\n",
      "Train RMSE: 0.8032 CV RMSE: 0.9551\n",
      "Train RMSE: 0.8482 CV RMSE: 0.9492\n",
      "Train RMSE: 0.8547 CV RMSE: 0.9492\n",
      "Train RMSE: 0.8580 CV RMSE: 0.9494\n",
      "Train RMSE: 0.4321 CV RMSE: 1.0724\n",
      "Train RMSE: 0.6148 CV RMSE: 0.9724\n",
      "Train RMSE: 0.7784 CV RMSE: 0.9511\n",
      "Train RMSE: 0.8065 CV RMSE: 0.9497\n",
      "Train RMSE: 0.8174 CV RMSE: 0.9491\n",
      "Train RMSE: 0.3134 CV RMSE: 1.1170\n",
      "Train RMSE: 0.4281 CV RMSE: 1.0015\n",
      "Train RMSE: 0.6352 CV RMSE: 0.9628\n",
      "Train RMSE: 0.7203 CV RMSE: 0.9557\n",
      "Train RMSE: 0.7604 CV RMSE: 0.9550\n",
      "Train RMSE: 0.2854 CV RMSE: 1.2087\n",
      "Train RMSE: 0.4276 CV RMSE: 1.0813\n",
      "Train RMSE: 0.5341 CV RMSE: 1.0431\n",
      "Train RMSE: 0.5605 CV RMSE: 1.0257\n",
      "Train RMSE: 0.5882 CV RMSE: 1.0163\n",
      "Train RMSE: 0.9224 CV RMSE: 0.9738\n",
      "Train RMSE: 0.9304 CV RMSE: 0.9720\n",
      "Train RMSE: 0.9339 CV RMSE: 0.9712\n",
      "Train RMSE: 0.9353 CV RMSE: 0.9715\n",
      "Train RMSE: 0.9363 CV RMSE: 0.9713\n",
      "Train RMSE: 0.8619 CV RMSE: 0.9687\n",
      "Train RMSE: 0.8953 CV RMSE: 0.9634\n",
      "Train RMSE: 0.9050 CV RMSE: 0.9621\n",
      "Train RMSE: 0.9080 CV RMSE: 0.9619\n",
      "Train RMSE: 0.9097 CV RMSE: 0.9618\n",
      "Train RMSE: 0.7055 CV RMSE: 0.9893\n",
      "Train RMSE: 0.8396 CV RMSE: 0.9583\n",
      "Train RMSE: 0.8704 CV RMSE: 0.9547\n",
      "Train RMSE: 0.8762 CV RMSE: 0.9549\n",
      "Train RMSE: 0.8796 CV RMSE: 0.9548\n",
      "Train RMSE: 0.1440 CV RMSE: 1.0402\n",
      "Train RMSE: 0.3629 CV RMSE: 1.0032\n",
      "Train RMSE: 0.4958 CV RMSE: 0.9953\n",
      "Train RMSE: 0.5528 CV RMSE: 0.9918\n",
      "Train RMSE: 0.5970 CV RMSE: 0.9893\n",
      "Train RMSE: 0.8113 CV RMSE: 0.9746\n",
      "Train RMSE: 0.8761 CV RMSE: 0.9598\n",
      "Train RMSE: 0.8922 CV RMSE: 0.9586\n",
      "Train RMSE: 0.8957 CV RMSE: 0.9584\n",
      "Train RMSE: 0.8980 CV RMSE: 0.9582\n",
      "Train RMSE: 0.5798 CV RMSE: 1.0112\n",
      "Train RMSE: 0.7850 CV RMSE: 0.9577\n",
      "Train RMSE: 0.8474 CV RMSE: 0.9515\n",
      "Train RMSE: 0.8574 CV RMSE: 0.9514\n",
      "Train RMSE: 0.8624 CV RMSE: 0.9515\n",
      "Train RMSE: 0.3709 CV RMSE: 1.0462\n",
      "Train RMSE: 0.5903 CV RMSE: 0.9684\n",
      "Train RMSE: 0.7742 CV RMSE: 0.9513\n",
      "Train RMSE: 0.8068 CV RMSE: 0.9498\n",
      "Train RMSE: 0.8207 CV RMSE: 0.9494\n",
      "Train RMSE: 0.1082 CV RMSE: 1.0333\n",
      "Train RMSE: 0.2992 CV RMSE: 0.9933\n",
      "Train RMSE: 0.4532 CV RMSE: 0.9900\n",
      "Train RMSE: 0.5155 CV RMSE: 0.9895\n",
      "Train RMSE: 0.5485 CV RMSE: 0.9899\n",
      "Train RMSE: 0.6271 CV RMSE: 1.0065\n",
      "Train RMSE: 0.8103 CV RMSE: 0.9568\n",
      "Train RMSE: 0.8578 CV RMSE: 0.9530\n",
      "Train RMSE: 0.8656 CV RMSE: 0.9522\n",
      "Train RMSE: 0.8700 CV RMSE: 0.9522\n",
      "Train RMSE: 0.3955 CV RMSE: 1.0469\n",
      "Train RMSE: 0.6170 CV RMSE: 0.9683\n",
      "Train RMSE: 0.7869 CV RMSE: 0.9504\n",
      "Train RMSE: 0.8150 CV RMSE: 0.9493\n",
      "Train RMSE: 0.8266 CV RMSE: 0.9488\n",
      "Train RMSE: 0.2302 CV RMSE: 1.0687\n",
      "Train RMSE: 0.3891 CV RMSE: 0.9801\n",
      "Train RMSE: 0.6426 CV RMSE: 0.9567\n",
      "Train RMSE: 0.7261 CV RMSE: 0.9527\n",
      "Train RMSE: 0.7661 CV RMSE: 0.9513\n",
      "Train RMSE: 0.0935 CV RMSE: 1.0344\n",
      "Train RMSE: 0.2778 CV RMSE: 0.9940\n",
      "Train RMSE: 0.4475 CV RMSE: 0.9893\n",
      "Train RMSE: 0.5000 CV RMSE: 0.9871\n",
      "Train RMSE: 0.5376 CV RMSE: 0.9868\n",
      "Train RMSE: 0.4902 CV RMSE: 1.0291\n",
      "Train RMSE: 0.7167 CV RMSE: 0.9600\n",
      "Train RMSE: 0.8247 CV RMSE: 0.9501\n",
      "Train RMSE: 0.8388 CV RMSE: 0.9497\n",
      "Train RMSE: 0.8469 CV RMSE: 0.9497\n",
      "Train RMSE: 0.2872 CV RMSE: 1.0610\n",
      "Train RMSE: 0.4654 CV RMSE: 0.9764\n",
      "Train RMSE: 0.7104 CV RMSE: 0.9536\n",
      "Train RMSE: 0.7670 CV RMSE: 0.9502\n",
      "Train RMSE: 0.7934 CV RMSE: 0.9495\n",
      "Train RMSE: 0.1577 CV RMSE: 1.0791\n",
      "Train RMSE: 0.2838 CV RMSE: 0.9850\n",
      "Train RMSE: 0.5187 CV RMSE: 0.9631\n",
      "Train RMSE: 0.6320 CV RMSE: 0.9576\n",
      "Train RMSE: 0.7047 CV RMSE: 0.9547\n",
      "Train RMSE: 0.0795 CV RMSE: 1.0361\n",
      "Train RMSE: 0.2834 CV RMSE: 0.9895\n",
      "Train RMSE: 0.4359 CV RMSE: 0.9853\n",
      "Train RMSE: 0.4890 CV RMSE: 0.9869\n",
      "Train RMSE: 0.5349 CV RMSE: 0.9856\n",
      "Train RMSE: 0.9096 CV RMSE: 0.9762\n",
      "Train RMSE: 0.9230 CV RMSE: 0.9726\n",
      "Train RMSE: 0.9296 CV RMSE: 0.9719\n",
      "Train RMSE: 0.9315 CV RMSE: 0.9716\n",
      "Train RMSE: 0.9329 CV RMSE: 0.9716\n",
      "Train RMSE: 0.8290 CV RMSE: 0.9757\n",
      "Train RMSE: 0.8824 CV RMSE: 0.9640\n",
      "Train RMSE: 0.8984 CV RMSE: 0.9627\n",
      "Train RMSE: 0.9024 CV RMSE: 0.9619\n",
      "Train RMSE: 0.9050 CV RMSE: 0.9621\n",
      "Train RMSE: 0.6354 CV RMSE: 0.9996\n",
      "Train RMSE: 0.8123 CV RMSE: 0.9606\n",
      "Train RMSE: 0.8588 CV RMSE: 0.9561\n",
      "Train RMSE: 0.8676 CV RMSE: 0.9553\n",
      "Train RMSE: 0.8730 CV RMSE: 0.9549\n",
      "Train RMSE: 0.1261 CV RMSE: 1.0136\n",
      "Train RMSE: 0.3286 CV RMSE: 0.9848\n",
      "Train RMSE: 0.4835 CV RMSE: 0.9824\n",
      "Train RMSE: 0.5372 CV RMSE: 0.9811\n",
      "Train RMSE: 0.5784 CV RMSE: 0.9812\n",
      "Train RMSE: 0.7645 CV RMSE: 0.9826\n",
      "Train RMSE: 0.8579 CV RMSE: 0.9616\n",
      "Train RMSE: 0.8838 CV RMSE: 0.9594\n",
      "Train RMSE: 0.8889 CV RMSE: 0.9585\n",
      "Train RMSE: 0.8925 CV RMSE: 0.9588\n",
      "Train RMSE: 0.5074 CV RMSE: 1.0212\n",
      "Train RMSE: 0.7392 CV RMSE: 0.9622\n",
      "Train RMSE: 0.8319 CV RMSE: 0.9532\n",
      "Train RMSE: 0.8456 CV RMSE: 0.9518\n",
      "Train RMSE: 0.8538 CV RMSE: 0.9521\n",
      "Train RMSE: 0.3057 CV RMSE: 1.0452\n",
      "Train RMSE: 0.5206 CV RMSE: 0.9708\n",
      "Train RMSE: 0.7410 CV RMSE: 0.9521\n",
      "Train RMSE: 0.7855 CV RMSE: 0.9505\n",
      "Train RMSE: 0.8061 CV RMSE: 0.9497\n",
      "Train RMSE: 0.1060 CV RMSE: 1.0102\n",
      "Train RMSE: 0.2896 CV RMSE: 0.9775\n",
      "Train RMSE: 0.4425 CV RMSE: 0.9789\n",
      "Train RMSE: 0.5017 CV RMSE: 0.9792\n",
      "Train RMSE: 0.5465 CV RMSE: 0.9809\n",
      "Train RMSE: 0.5608 CV RMSE: 1.0152\n",
      "Train RMSE: 0.7710 CV RMSE: 0.9613\n",
      "Train RMSE: 0.8432 CV RMSE: 0.9537\n",
      "Train RMSE: 0.8553 CV RMSE: 0.9525\n",
      "Train RMSE: 0.8625 CV RMSE: 0.9527\n",
      "Train RMSE: 0.3300 CV RMSE: 1.0466\n",
      "Train RMSE: 0.5487 CV RMSE: 0.9702\n",
      "Train RMSE: 0.7556 CV RMSE: 0.9519\n",
      "Train RMSE: 0.7947 CV RMSE: 0.9497\n",
      "Train RMSE: 0.8132 CV RMSE: 0.9493\n",
      "Train RMSE: 0.1770 CV RMSE: 1.0632\n",
      "Train RMSE: 0.3296 CV RMSE: 0.9767\n",
      "Train RMSE: 0.5901 CV RMSE: 0.9581\n",
      "Train RMSE: 0.6883 CV RMSE: 0.9526\n",
      "Train RMSE: 0.7413 CV RMSE: 0.9520\n",
      "Train RMSE: 0.0902 CV RMSE: 1.0090\n",
      "Train RMSE: 0.2721 CV RMSE: 0.9727\n",
      "Train RMSE: 0.4291 CV RMSE: 0.9767\n",
      "Train RMSE: 0.4850 CV RMSE: 0.9789\n",
      "Train RMSE: 0.5306 CV RMSE: 0.9805\n",
      "Train RMSE: 0.4214 CV RMSE: 1.0366\n",
      "Train RMSE: 0.6598 CV RMSE: 0.9649\n",
      "Train RMSE: 0.8010 CV RMSE: 0.9516\n",
      "Train RMSE: 0.8247 CV RMSE: 0.9504\n",
      "Train RMSE: 0.8367 CV RMSE: 0.9498\n",
      "Train RMSE: 0.2277 CV RMSE: 1.0594\n",
      "Train RMSE: 0.4070 CV RMSE: 0.9757\n",
      "Train RMSE: 0.6622 CV RMSE: 0.9557\n",
      "Train RMSE: 0.7376 CV RMSE: 0.9503\n",
      "Train RMSE: 0.7723 CV RMSE: 0.9498\n",
      "Train RMSE: 0.1111 CV RMSE: 1.0708\n",
      "Train RMSE: 0.2381 CV RMSE: 0.9787\n",
      "Train RMSE: 0.4632 CV RMSE: 0.9617\n",
      "Train RMSE: 0.5895 CV RMSE: 0.9568\n",
      "Train RMSE: 0.6704 CV RMSE: 0.9557\n",
      "Train RMSE: 0.0783 CV RMSE: 1.0092\n",
      "Train RMSE: 0.2643 CV RMSE: 0.9720\n",
      "Train RMSE: 0.4223 CV RMSE: 0.9757\n",
      "Train RMSE: 0.4843 CV RMSE: 0.9784\n",
      "Train RMSE: 0.5217 CV RMSE: 0.9802\n",
      "Train RMSE: 0.8978 CV RMSE: 0.9776\n",
      "Train RMSE: 0.9165 CV RMSE: 0.9733\n",
      "Train RMSE: 0.9249 CV RMSE: 0.9720\n",
      "Train RMSE: 0.9276 CV RMSE: 0.9717\n",
      "Train RMSE: 0.9297 CV RMSE: 0.9722\n",
      "Train RMSE: 0.8003 CV RMSE: 0.9811\n",
      "Train RMSE: 0.8696 CV RMSE: 0.9655\n",
      "Train RMSE: 0.8913 CV RMSE: 0.9629\n",
      "Train RMSE: 0.8968 CV RMSE: 0.9624\n",
      "Train RMSE: 0.9001 CV RMSE: 0.9622\n",
      "Train RMSE: 0.5902 CV RMSE: 1.0089\n",
      "Train RMSE: 0.7832 CV RMSE: 0.9623\n",
      "Train RMSE: 0.8475 CV RMSE: 0.9564\n",
      "Train RMSE: 0.8593 CV RMSE: 0.9556\n",
      "Train RMSE: 0.8661 CV RMSE: 0.9556\n",
      "Train RMSE: 0.1264 CV RMSE: 1.0041\n",
      "Train RMSE: 0.3323 CV RMSE: 0.9778\n",
      "Train RMSE: 0.4833 CV RMSE: 0.9764\n",
      "Train RMSE: 0.5345 CV RMSE: 0.9775\n",
      "Train RMSE: 0.5762 CV RMSE: 0.9787\n",
      "Train RMSE: 0.7264 CV RMSE: 0.9907\n",
      "Train RMSE: 0.8416 CV RMSE: 0.9631\n",
      "Train RMSE: 0.8754 CV RMSE: 0.9592\n",
      "Train RMSE: 0.8828 CV RMSE: 0.9586\n",
      "Train RMSE: 0.8873 CV RMSE: 0.9588\n",
      "Train RMSE: 0.4628 CV RMSE: 1.0279\n",
      "Train RMSE: 0.7031 CV RMSE: 0.9634\n",
      "Train RMSE: 0.8150 CV RMSE: 0.9540\n",
      "Train RMSE: 0.8350 CV RMSE: 0.9524\n",
      "Train RMSE: 0.8456 CV RMSE: 0.9522\n",
      "Train RMSE: 0.2649 CV RMSE: 1.0500\n",
      "Train RMSE: 0.4770 CV RMSE: 0.9715\n",
      "Train RMSE: 0.7106 CV RMSE: 0.9542\n",
      "Train RMSE: 0.7666 CV RMSE: 0.9509\n",
      "Train RMSE: 0.7923 CV RMSE: 0.9501\n",
      "Train RMSE: 0.1058 CV RMSE: 1.0027\n",
      "Train RMSE: 0.2817 CV RMSE: 0.9708\n",
      "Train RMSE: 0.4397 CV RMSE: 0.9733\n",
      "Train RMSE: 0.4967 CV RMSE: 0.9750\n",
      "Train RMSE: 0.5388 CV RMSE: 0.9774\n",
      "Train RMSE: 0.5147 CV RMSE: 1.0238\n",
      "Train RMSE: 0.7384 CV RMSE: 0.9638\n",
      "Train RMSE: 0.8291 CV RMSE: 0.9537\n",
      "Train RMSE: 0.8459 CV RMSE: 0.9533\n",
      "Train RMSE: 0.8550 CV RMSE: 0.9531\n",
      "Train RMSE: 0.2883 CV RMSE: 1.0548\n",
      "Train RMSE: 0.5022 CV RMSE: 0.9730\n",
      "Train RMSE: 0.7270 CV RMSE: 0.9526\n",
      "Train RMSE: 0.7772 CV RMSE: 0.9505\n",
      "Train RMSE: 0.8013 CV RMSE: 0.9494\n",
      "Train RMSE: 0.1457 CV RMSE: 1.0636\n",
      "Train RMSE: 0.2975 CV RMSE: 0.9779\n",
      "Train RMSE: 0.5541 CV RMSE: 0.9576\n",
      "Train RMSE: 0.6614 CV RMSE: 0.9534\n",
      "Train RMSE: 0.7208 CV RMSE: 0.9518\n",
      "Train RMSE: 0.0916 CV RMSE: 1.0034\n",
      "Train RMSE: 0.2567 CV RMSE: 0.9674\n",
      "Train RMSE: 0.4283 CV RMSE: 0.9720\n",
      "Train RMSE: 0.4830 CV RMSE: 0.9752\n",
      "Train RMSE: 0.5259 CV RMSE: 0.9771\n",
      "Train RMSE: 0.3743 CV RMSE: 1.0405\n",
      "Train RMSE: 0.6163 CV RMSE: 0.9675\n",
      "Train RMSE: 0.7815 CV RMSE: 0.9526\n",
      "Train RMSE: 0.8121 CV RMSE: 0.9504\n",
      "Train RMSE: 0.8265 CV RMSE: 0.9502\n",
      "Train RMSE: 0.1913 CV RMSE: 1.0588\n",
      "Train RMSE: 0.3663 CV RMSE: 0.9780\n",
      "Train RMSE: 0.6275 CV RMSE: 0.9537\n",
      "Train RMSE: 0.7120 CV RMSE: 0.9506\n",
      "Train RMSE: 0.7565 CV RMSE: 0.9494\n",
      "Train RMSE: 0.0888 CV RMSE: 1.0662\n",
      "Train RMSE: 0.2157 CV RMSE: 0.9745\n",
      "Train RMSE: 0.4299 CV RMSE: 0.9613\n",
      "Train RMSE: 0.5583 CV RMSE: 0.9562\n",
      "Train RMSE: 0.6439 CV RMSE: 0.9548\n",
      "Train RMSE: 0.0760 CV RMSE: 1.0003\n",
      "Train RMSE: 0.2587 CV RMSE: 0.9653\n",
      "Train RMSE: 0.4224 CV RMSE: 0.9724\n",
      "Train RMSE: 0.4803 CV RMSE: 0.9748\n",
      "Train RMSE: 0.5181 CV RMSE: 0.9776\n",
      "Train RMSE: 0.8874 CV RMSE: 0.9804\n",
      "Train RMSE: 0.9102 CV RMSE: 0.9741\n",
      "Train RMSE: 0.9205 CV RMSE: 0.9723\n",
      "Train RMSE: 0.9241 CV RMSE: 0.9719\n",
      "Train RMSE: 0.9263 CV RMSE: 0.9722\n",
      "Train RMSE: 0.7732 CV RMSE: 0.9857\n",
      "Train RMSE: 0.8574 CV RMSE: 0.9667\n",
      "Train RMSE: 0.8846 CV RMSE: 0.9638\n",
      "Train RMSE: 0.8914 CV RMSE: 0.9629\n",
      "Train RMSE: 0.8957 CV RMSE: 0.9627\n",
      "Train RMSE: 0.5497 CV RMSE: 1.0171\n",
      "Train RMSE: 0.7585 CV RMSE: 0.9655\n",
      "Train RMSE: 0.8357 CV RMSE: 0.9566\n",
      "Train RMSE: 0.8517 CV RMSE: 0.9556\n",
      "Train RMSE: 0.8601 CV RMSE: 0.9555\n",
      "Train RMSE: 0.1281 CV RMSE: 1.0007\n",
      "Train RMSE: 0.3238 CV RMSE: 0.9742\n",
      "Train RMSE: 0.4722 CV RMSE: 0.9728\n",
      "Train RMSE: 0.5326 CV RMSE: 0.9740\n",
      "Train RMSE: 0.5702 CV RMSE: 0.9750\n",
      "Train RMSE: 0.6891 CV RMSE: 0.9983\n",
      "Train RMSE: 0.8256 CV RMSE: 0.9656\n",
      "Train RMSE: 0.8664 CV RMSE: 0.9602\n",
      "Train RMSE: 0.8764 CV RMSE: 0.9594\n",
      "Train RMSE: 0.8819 CV RMSE: 0.9590\n",
      "Train RMSE: 0.4253 CV RMSE: 1.0341\n",
      "Train RMSE: 0.6751 CV RMSE: 0.9655\n",
      "Train RMSE: 0.8003 CV RMSE: 0.9541\n",
      "Train RMSE: 0.8248 CV RMSE: 0.9527\n",
      "Train RMSE: 0.8381 CV RMSE: 0.9526\n",
      "Train RMSE: 0.2337 CV RMSE: 1.0525\n",
      "Train RMSE: 0.4380 CV RMSE: 0.9765\n",
      "Train RMSE: 0.6853 CV RMSE: 0.9555\n",
      "Train RMSE: 0.7483 CV RMSE: 0.9515\n",
      "Train RMSE: 0.7802 CV RMSE: 0.9504\n",
      "Train RMSE: 0.1069 CV RMSE: 0.9981\n",
      "Train RMSE: 0.2821 CV RMSE: 0.9671\n",
      "Train RMSE: 0.4426 CV RMSE: 0.9715\n",
      "Train RMSE: 0.4982 CV RMSE: 0.9722\n",
      "Train RMSE: 0.5391 CV RMSE: 0.9750\n",
      "Train RMSE: 0.4744 CV RMSE: 1.0246\n",
      "Train RMSE: 0.7092 CV RMSE: 0.9654\n",
      "Train RMSE: 0.8165 CV RMSE: 0.9544\n",
      "Train RMSE: 0.8370 CV RMSE: 0.9535\n",
      "Train RMSE: 0.8482 CV RMSE: 0.9530\n",
      "Train RMSE: 0.2554 CV RMSE: 1.0540\n",
      "Train RMSE: 0.4656 CV RMSE: 0.9749\n",
      "Train RMSE: 0.7057 CV RMSE: 0.9533\n",
      "Train RMSE: 0.7611 CV RMSE: 0.9512\n",
      "Train RMSE: 0.7896 CV RMSE: 0.9497\n",
      "Train RMSE: 0.1230 CV RMSE: 1.0606\n",
      "Train RMSE: 0.2721 CV RMSE: 0.9749\n",
      "Train RMSE: 0.5248 CV RMSE: 0.9586\n",
      "Train RMSE: 0.6382 CV RMSE: 0.9533\n",
      "Train RMSE: 0.7020 CV RMSE: 0.9518\n",
      "Train RMSE: 0.0888 CV RMSE: 1.0008\n",
      "Train RMSE: 0.2613 CV RMSE: 0.9642\n",
      "Train RMSE: 0.4271 CV RMSE: 0.9702\n",
      "Train RMSE: 0.4851 CV RMSE: 0.9724\n",
      "Train RMSE: 0.5274 CV RMSE: 0.9752\n",
      "Train RMSE: 0.3406 CV RMSE: 1.0407\n",
      "Train RMSE: 0.5793 CV RMSE: 0.9696\n",
      "Train RMSE: 0.7620 CV RMSE: 0.9538\n",
      "Train RMSE: 0.7989 CV RMSE: 0.9509\n",
      "Train RMSE: 0.8168 CV RMSE: 0.9507\n",
      "Train RMSE: 0.1658 CV RMSE: 1.0610\n",
      "Train RMSE: 0.3372 CV RMSE: 0.9749\n",
      "Train RMSE: 0.6023 CV RMSE: 0.9565\n",
      "Train RMSE: 0.6920 CV RMSE: 0.9513\n",
      "Train RMSE: 0.7412 CV RMSE: 0.9506\n",
      "Train RMSE: 0.0724 CV RMSE: 1.0658\n",
      "Train RMSE: 0.2002 CV RMSE: 0.9744\n",
      "Train RMSE: 0.4082 CV RMSE: 0.9602\n",
      "Train RMSE: 0.5322 CV RMSE: 0.9555\n",
      "Train RMSE: 0.6222 CV RMSE: 0.9541\n",
      "Train RMSE: 0.0751 CV RMSE: 0.9970\n",
      "Train RMSE: 0.2534 CV RMSE: 0.9640\n",
      "Train RMSE: 0.4264 CV RMSE: 0.9690\n",
      "Train RMSE: 0.4744 CV RMSE: 0.9732\n",
      "Train RMSE: 0.5165 CV RMSE: 0.9759\n",
      "\n",
      "\n",
      "Best RMSE: 0.94865 For Optimal Params Combination Value:\n",
      "\t[1.]N-Factors: 10 \n",
      "\t[2.]Epochs: 30 \n",
      "\t[3.]Learning-Rate: 0.0050 \n",
      "\t[4.]Reg-All: 0.0900\n",
      "CPU times: user 35min 51s, sys: 3.1 s, total: 35min 54s\n",
      "Wall time: 36min 1s\n"
     ]
    }
   ],
   "source": [
    "%%time\n",
    "print('HYPERPARAMETER:')\n",
    "param_list(params, param_summ)\n",
    "print()\n",
    "#HYPERPARAM TUNNING\n",
    "clf=SVD\n",
    "model = hyperparamTUNNING(clf, data, params_svd, CV_, 'svd', searchMethod[1])"
   ]
  },
  {
   "cell_type": "markdown",
   "metadata": {},
   "source": [
    "#### [b.] Performance on test data and summary:"
   ]
  },
  {
   "cell_type": "code",
   "execution_count": 261,
   "metadata": {},
   "outputs": [
    {
     "name": "stdout",
     "output_type": "stream",
     "text": [
      "Performance Summary (WITH OPTIMAL VALUE OF PARAMETERS):\n",
      "+-------+-------------+-------------+------------+------------+\n",
      "| Model | Train(RMSE) | Train(MAPE) | Test(RMSE) | Test(MAPE) |\n",
      "+-------+-------------+-------------+------------+------------+\n",
      "|  SVD  |   0.84508   |   25.80980  |  1.07418   |  35.13581  |\n",
      "+-------+-------------+-------------+------------+------------+\n",
      "CPU times: user 2.76 s, sys: 4 ms, total: 2.76 s\n",
      "Wall time: 2.76 s\n"
     ]
    }
   ],
   "source": [
    "%%time\n",
    "#INITIALIZE CLASSIFIER WITH BEST PARAMS VALUE\n",
    "clf=SVD(n_factors=model.best_params['rmse']['n_factors'],\\\n",
    "        n_epochs=model.best_params['rmse']['n_epochs'],\\\n",
    "        lr_all=model.best_params['rmse']['lr_all'],\\\n",
    "        reg_all=model.best_params['rmse']['reg_all'])\n",
    "\n",
    "#MEASURE PERFORMANCE ON TEST DATA\n",
    "train_result, test_result, model_summ_local=testPerformance(clf, trainset, testset, train_reg, test_reg, model_name[6], \\\n",
    "                                                            model_summary=model_summary, add_to_xgboost=True)\n",
    "\n",
    "#SAVE THE TEST RESULTS TO DICT OF DICT\n",
    "models_evaluation_train[model_name[6]] = train_result\n",
    "models_evaluation_test[model_name[6]] = test_result\n",
    "\n",
    "#PRINT PERFROMANCE SUMMARY \n",
    "print(model_summ_local)"
   ]
  },
  {
   "cell_type": "markdown",
   "metadata": {},
   "source": [
    "# ============================================================"
   ]
  },
  {
   "cell_type": "markdown",
   "metadata": {},
   "source": [
    "## 8.SVDpp:\n",
    "Predicted Rating:\n",
    "- $ \\large \\hat{r}_{ui} = \\mu + b_u + b_i + q_i^T\\left(p_u +|I_u|^{-\\frac{1}{2}} \\sum_{j \\in I_u}y_j\\right) $ \n",
    "- $ \\pmb{I_u}$ --- the set of all items rated by user u\n",
    "\n",
    "- $\\pmb{y_j}$ --- Our new set of item factors that capture implicit ratings.  \n",
    "\n",
    "Optimization Problem:\n",
    "- $ \\large \\sum_{r_{ui} \\in R_{train}} \\left(r_{ui} - \\hat{r}_{ui} \\right)^2 +\n",
    "\\lambda\\left(b_i^2 + b_u^2 + ||q_i||^2 + ||p_u||^2 + ||y_j||^2\\right) $ "
   ]
  },
  {
   "cell_type": "markdown",
   "metadata": {},
   "source": [
    "#### [a.] Hyperparam tunning:"
   ]
  },
  {
   "cell_type": "code",
   "execution_count": 263,
   "metadata": {},
   "outputs": [
    {
     "name": "stdout",
     "output_type": "stream",
     "text": [
      "HYPERPARAMETER:\n",
      "+-------------+-----------------------------------------------------------------------------------------+\n",
      "|  Parameter  |                                          Value                                          |\n",
      "+-------------+-----------------------------------------------------------------------------------------+\n",
      "|      k      |                                     [20, 30, 40, 60]                                    |\n",
      "| bsl_options |   {'method': ['sgd'], 'n_epochs': [10, 20], 'learning_rate': [0.001, 0.01, 0.05, 0.1]}  |\n",
      "| sim_options | {'user_based': [False], 'shrinkage': [80, 100, 120, 140], 'name': ['pearson_baseline']} |\n",
      "|    min_k    |                                           [1]                                           |\n",
      "+-------------+-----------------------------------------------------------------------------------------+\n",
      "\n",
      "Train RMSE: 0.4572 CV RMSE: 1.0431\n",
      "Train RMSE: 0.2714 CV RMSE: 0.9722\n",
      "Train RMSE: 0.6510 CV RMSE: 1.0004\n",
      "Train RMSE: 0.5286 CV RMSE: 0.9497\n",
      "Train RMSE: 0.3022 CV RMSE: 0.9912\n",
      "Train RMSE: 0.3605 CV RMSE: 0.9758\n",
      "Train RMSE: 0.8703 CV RMSE: 0.9507\n",
      "Train RMSE: 0.3622 CV RMSE: 0.9776\n",
      "Train RMSE: 0.6502 CV RMSE: 0.9481\n",
      "Train RMSE: 0.5682 CV RMSE: 1.2116\n",
      "Train RMSE: 0.5508 CV RMSE: 0.9826\n",
      "Train RMSE: 0.9181 CV RMSE: 0.9698\n",
      "Train RMSE: 0.8819 CV RMSE: 0.9524\n",
      "Train RMSE: 0.6068 CV RMSE: 0.9569\n",
      "Train RMSE: 0.1751 CV RMSE: 1.0765\n",
      "Train RMSE: 0.4871 CV RMSE: 0.9751\n",
      "Train RMSE: 0.9065 CV RMSE: 0.9575\n",
      "Train RMSE: 0.8455 CV RMSE: 0.9505\n",
      "Train RMSE: 0.8960 CV RMSE: 0.9576\n",
      "Train RMSE: 0.4957 CV RMSE: 0.9790\n",
      "\n",
      "\n",
      "Best RMSE: 0.94813 For Optimal Params Combination Value:\n",
      "\t[1.]N-Factors: 50 \n",
      "\t[2.]Epochs: 40 \n",
      "\t[3.]Learning-Rate: 0.0080 \n",
      "\t[4.]Reg-All: 0.0900\n",
      "CPU times: user 2min 2s, sys: 352 ms, total: 2min 3s\n",
      "Wall time: 2min 50s\n"
     ]
    }
   ],
   "source": [
    "%%time\n",
    "print('HYPERPARAMETER:')\n",
    "param_list(params, param_summ)\n",
    "print()\n",
    "#HYPERPARAM TUNNING\n",
    "clf=SVDpp\n",
    "model = hyperparamTUNNING(clf, data, params_svd, CV_, 'svd', searchMethod[0])"
   ]
  },
  {
   "cell_type": "markdown",
   "metadata": {},
   "source": [
    "#### [b.] Performance on test data and summary:"
   ]
  },
  {
   "cell_type": "code",
   "execution_count": 264,
   "metadata": {},
   "outputs": [
    {
     "name": "stdout",
     "output_type": "stream",
     "text": [
      "Performance Summary (WITH OPTIMAL VALUE OF PARAMETERS):\n",
      "+-------+-------------+-------------+------------+------------+\n",
      "| Model | Train(RMSE) | Train(MAPE) | Test(RMSE) | Test(MAPE) |\n",
      "+-------+-------------+-------------+------------+------------+\n",
      "| SVD++ |   0.67078   |   19.84641  |  1.07450   |  35.11816  |\n",
      "+-------+-------------+-------------+------------+------------+\n",
      "CPU times: user 38.5 s, sys: 8 ms, total: 38.6 s\n",
      "Wall time: 38.6 s\n"
     ]
    }
   ],
   "source": [
    "%%time\n",
    "#INITIALIZE CLASSIFIER WITH BEST PARAMS VALUE\n",
    "clf=SVDpp(n_factors=model.best_params['rmse']['n_factors'],\\\n",
    "        n_epochs=model.best_params['rmse']['n_epochs'],\\\n",
    "        lr_all=model.best_params['rmse']['lr_all'],\\\n",
    "        reg_all=model.best_params['rmse']['reg_all'])\n",
    "\n",
    "#MEASURE PERFORMANCE ON TEST DATA\n",
    "train_result, test_result, model_summ_local=testPerformance(clf, trainset, testset, train_reg, test_reg, model_name[7], \\\n",
    "                                                            model_summary=model_summary, add_to_xgboost=True)\n",
    "\n",
    "#SAVE THE TEST RESULTS TO DICT OF DICT\n",
    "models_evaluation_train[model_name[7]] = train_result\n",
    "models_evaluation_test[model_name[7]] = test_result\n",
    "\n",
    "#PRINT PERFROMANCE SUMMARY \n",
    "print(model_summ_local)"
   ]
  },
  {
   "cell_type": "markdown",
   "metadata": {},
   "source": [
    "# ============================================================"
   ]
  },
  {
   "cell_type": "markdown",
   "metadata": {
    "colab_type": "text",
    "id": "5QsJvy23BB-Y"
   },
   "source": [
    "## 9. XGBOOST( 13 + BSL + KNN + MF[SVD+SVDpp] ):"
   ]
  },
  {
   "cell_type": "markdown",
   "metadata": {
    "colab_type": "text",
    "id": "EUhJMaNtozLu"
   },
   "source": [
    "#### [9.1.] Hyperparameter Tunning:"
   ]
  },
  {
   "cell_type": "code",
   "execution_count": 265,
   "metadata": {},
   "outputs": [
    {
     "name": "stdout",
     "output_type": "stream",
     "text": [
      "HYPERPARAMETER:\n",
      "\n",
      "+------------------+-------------------------------+\n",
      "|    Parameter     |             Value             |\n",
      "+------------------+-------------------------------+\n",
      "|   n_estimators   |       [32, 64, 80, 100]       |\n",
      "|    max_depth     |           [5, 7, 9]           |\n",
      "| min_child_weight |           [1, 3, 5]           |\n",
      "|      gamma       |   [0.0, 0.1, 0.2, 0.3, 0.4]   |\n",
      "|    subsample     |      [0.6, 0.7, 0.8, 0.9]     |\n",
      "| colsample_bytree |      [0.6, 0.7, 0.8, 0.9]     |\n",
      "|    reg_alpha     | [0, 0.001, 0.005, 0.01, 0.05] |\n",
      "+------------------+-------------------------------+\n",
      "\n",
      "Tunning N_ESTIMATORS:\n",
      "Train RMSE: 0.8430 CV RMSE: 0.8622\n",
      "Train RMSE: 0.8236 CV RMSE: 0.8497\n",
      "Train RMSE: 0.8194 CV RMSE: 0.8500\n",
      "Train RMSE: 0.8148 CV RMSE: 0.8501\n",
      "\n",
      "Tunning MAX_DEPTH:\n",
      "Train RMSE: 0.8236 CV RMSE: 0.8497\n",
      "Train RMSE: 0.7857 CV RMSE: 0.8529\n",
      "Train RMSE: 0.7179 CV RMSE: 0.8581\n",
      "\n",
      "Tunning MIN_CHILD_WEIGHT:\n",
      "Train RMSE: 0.8232 CV RMSE: 0.8495\n",
      "Train RMSE: 0.8233 CV RMSE: 0.8500\n",
      "Train RMSE: 0.8236 CV RMSE: 0.8497\n",
      "\n",
      "Tunning GAMMA:\n",
      "Train RMSE: 0.8232 CV RMSE: 0.8495\n",
      "Train RMSE: 0.8232 CV RMSE: 0.8495\n",
      "Train RMSE: 0.8232 CV RMSE: 0.8496\n",
      "Train RMSE: 0.8232 CV RMSE: 0.8498\n",
      "Train RMSE: 0.8232 CV RMSE: 0.8498\n",
      "\n",
      "Tunning SUBSAMPLE:\n",
      "Train RMSE: 0.8240 CV RMSE: 0.8508\n",
      "Train RMSE: 0.8235 CV RMSE: 0.8506\n",
      "Train RMSE: 0.8232 CV RMSE: 0.8495\n",
      "Train RMSE: 0.8233 CV RMSE: 0.8496\n",
      "\n",
      "Tunning COLSAMPLE_BYTREE:\n",
      "Train RMSE: 0.8232 CV RMSE: 0.8495\n",
      "Train RMSE: 0.8220 CV RMSE: 0.8501\n",
      "Train RMSE: 0.8213 CV RMSE: 0.8506\n",
      "Train RMSE: 0.8205 CV RMSE: 0.8510\n",
      "\n",
      "Tunning REG_ALPHA:\n",
      "Train RMSE: 0.8232 CV RMSE: 0.8496\n",
      "Train RMSE: 0.8232 CV RMSE: 0.8495\n",
      "Train RMSE: 0.8232 CV RMSE: 0.8495\n",
      "Train RMSE: 0.8232 CV RMSE: 0.8494\n",
      "Train RMSE: 0.8232 CV RMSE: 0.8495\n",
      "\n",
      "CPU times: user 27.9 s, sys: 572 ms, total: 28.5 s\n",
      "Wall time: 1min 15s\n"
     ]
    }
   ],
   "source": [
    "%%time\n",
    "#TRAIN AND TEST DATA FOR XGBOOST MODELS\n",
    "train, test = train_reg.drop([\"user\", \"movie\", \"rating\"], axis = 1), test_reg.drop([\"user\", \"movie\", \"rating\"], axis = 1)\n",
    "y_train, y_test = train_reg[\"rating\"], test_reg[\"rating\"]\n",
    "print('HYPERPARAMETER:\\n')\n",
    "param_list(params_range, param_summ)\n",
    "print()\n",
    "model, params_ = tuneALL_PARAM_XGB(train, y_train, CV, params_range, params_, searchMethod[1])"
   ]
  },
  {
   "cell_type": "markdown",
   "metadata": {},
   "source": [
    "#### [9.2]Optimal value of parameters after tunning:"
   ]
  },
  {
   "cell_type": "code",
   "execution_count": 266,
   "metadata": {
    "scrolled": true
   },
   "outputs": [
    {
     "name": "stdout",
     "output_type": "stream",
     "text": [
      "Optimal Value of Hyperparameters after Tunning:\n",
      "\n",
      "+------------------+-------+\n",
      "|    Parameter     | Value |\n",
      "+------------------+-------+\n",
      "|   n_estimators   |   64  |\n",
      "|    max_depth     |   5   |\n",
      "| min_child_weight |   1   |\n",
      "|      gamma       |  0.1  |\n",
      "|    subsample     |  0.8  |\n",
      "| colsample_bytree |  0.6  |\n",
      "|    reg_alpha     |  0.01 |\n",
      "+------------------+-------+\n"
     ]
    }
   ],
   "source": [
    "print('Optimal Value of Hyperparameters after Tunning:\\n')\n",
    "param_list(params_,param_summ)\n"
   ]
  },
  {
   "cell_type": "markdown",
   "metadata": {
    "colab_type": "text",
    "id": "m5llrbHC-juq"
   },
   "source": [
    "#### [9.3]Test performance :"
   ]
  },
  {
   "cell_type": "code",
   "execution_count": 269,
   "metadata": {
    "colab": {},
    "colab_type": "code",
    "id": "U6yVmcej-fGc"
   },
   "outputs": [
    {
     "name": "stdout",
     "output_type": "stream",
     "text": [
      "FOR OPTIMAL PARAMETERS, TRAIN RMSE: 0.82766,  TEST RMSE: 1.06981\n"
     ]
    },
    {
     "data": {
      "image/png": "[encoded data removed]",
      "text/plain": [
       "<Figure size 576x432 with 1 Axes>"
      ]
     },
     "metadata": {
      "needs_background": "light"
     },
     "output_type": "display_data"
    },
    {
     "name": "stdout",
     "output_type": "stream",
     "text": [
      "CPU times: user 4.58 s, sys: 332 ms, total: 4.92 s\n",
      "Wall time: 4.46 s\n"
     ]
    }
   ],
   "source": [
    "%%time\n",
    "train_result, test_result, model_local_summ=test_performance_xgb(train, y_train, test, y_test,\\\n",
    "                                                                 params_, model_summary, model_name[8], summary=True)\n",
    "\n",
    "#SAVE THE TEST RESULTS TO DICT OF DICT\n",
    "models_evaluation_train[model_name[8]] = train_result\n",
    "models_evaluation_test[model_name[8]] = test_result\n"
   ]
  },
  {
   "cell_type": "markdown",
   "metadata": {},
   "source": [
    "#### [9.4] model summary:"
   ]
  },
  {
   "cell_type": "code",
   "execution_count": 270,
   "metadata": {},
   "outputs": [
    {
     "name": "stdout",
     "output_type": "stream",
     "text": [
      "+-------+-------------+-------------+------------+------------+\n",
      "| Model | Train(RMSE) | Train(MAPE) | Test(RMSE) | Test(MAPE) |\n",
      "+-------+-------------+-------------+------------+------------+\n",
      "| SVD++ |   0.67078   |   19.84641  |  1.07450   |  35.11816  |\n",
      "+-------+-------------+-------------+------------+------------+\n"
     ]
    }
   ],
   "source": [
    "#MODEL SUMMARY\n",
    "print(model_summ_local)"
   ]
  },
  {
   "cell_type": "markdown",
   "metadata": {
    "colab_type": "text",
    "id": "Qy3aZfCVHPsg"
   },
   "source": [
    "# ============================================================"
   ]
  },
  {
   "cell_type": "markdown",
   "metadata": {
    "colab_type": "text",
    "id": "5QsJvy23BB-Y"
   },
   "source": [
    "## 10. XGBOOST( BSL + KNN + MF[SVD+SVDpp] ):"
   ]
  },
  {
   "cell_type": "markdown",
   "metadata": {
    "colab_type": "text",
    "id": "EUhJMaNtozLu"
   },
   "source": [
    "#### [10.1] Hyperparameter Tunning:"
   ]
  },
  {
   "cell_type": "code",
   "execution_count": 274,
   "metadata": {},
   "outputs": [
    {
     "name": "stdout",
     "output_type": "stream",
     "text": [
      "HYPERPARAMETER:\n",
      "\n",
      "+------------------+-------------------------------+\n",
      "|    Parameter     |             Value             |\n",
      "+------------------+-------------------------------+\n",
      "|   n_estimators   |       [32, 64, 80, 100]       |\n",
      "|    max_depth     |           [5, 7, 9]           |\n",
      "| min_child_weight |           [1, 3, 5]           |\n",
      "|      gamma       |   [0.0, 0.1, 0.2, 0.3, 0.4]   |\n",
      "|    subsample     |      [0.6, 0.7, 0.8, 0.9]     |\n",
      "| colsample_bytree |      [0.6, 0.7, 0.8, 0.9]     |\n",
      "|    reg_alpha     | [0, 0.001, 0.005, 0.01, 0.05] |\n",
      "+------------------+-------------------------------+\n",
      "\n",
      "Tunning N_ESTIMATORS:\n",
      "Train RMSE: 1.0447 CV RMSE: 1.0695\n",
      "Train RMSE: 1.0571 CV RMSE: 1.0739\n",
      "Train RMSE: 1.0415 CV RMSE: 1.0698\n",
      "\n",
      "Tunning MAX_DEPTH:\n",
      "Train RMSE: 1.0447 CV RMSE: 1.0695\n",
      "Train RMSE: 1.0292 CV RMSE: 1.0710\n",
      "Train RMSE: 1.0060 CV RMSE: 1.0727\n",
      "\n",
      "Tunning MIN_CHILD_WEIGHT:\n",
      "Train RMSE: 1.0439 CV RMSE: 1.0701\n",
      "Train RMSE: 1.0442 CV RMSE: 1.0699\n",
      "Train RMSE: 1.0447 CV RMSE: 1.0695\n",
      "\n",
      "Tunning GAMMA:\n",
      "Train RMSE: 1.0447 CV RMSE: 1.0695\n",
      "Train RMSE: 1.0448 CV RMSE: 1.0697\n",
      "Train RMSE: 1.0447 CV RMSE: 1.0694\n",
      "\n",
      "Tunning SUBSAMPLE:\n",
      "Train RMSE: 1.0445 CV RMSE: 1.0697\n",
      "Train RMSE: 1.0454 CV RMSE: 1.0702\n",
      "Train RMSE: 1.0447 CV RMSE: 1.0694\n",
      "\n",
      "Tunning COLSAMPLE_BYTREE:\n",
      "Train RMSE: 1.0453 CV RMSE: 1.0698\n",
      "Train RMSE: 1.0447 CV RMSE: 1.0694\n",
      "Train RMSE: 1.0447 CV RMSE: 1.0694\n",
      "\n",
      "Tunning REG_ALPHA:\n",
      "Train RMSE: 1.0448 CV RMSE: 1.0695\n",
      "Train RMSE: 1.0447 CV RMSE: 1.0694\n",
      "Train RMSE: 1.0450 CV RMSE: 1.0696\n",
      "\n",
      "CPU times: user 18.6 s, sys: 112 ms, total: 18.7 s\n",
      "Wall time: 43.6 s\n"
     ]
    }
   ],
   "source": [
    "%%time\n",
    "#SELECT COLUMNS\n",
    "cols=list(train_reg.columns)\n",
    "del cols[0:16]\n",
    "\n",
    "#TRAIN AND TEST DATA FOR XGBOOST MODELS\n",
    "train, test = train_reg[cols], test_reg[cols]\n",
    "y_train, y_test = train_reg['rating'], test_reg['rating']\n",
    "\n",
    "print('HYPERPARAMETER:\\n')\n",
    "param_list(params_range, param_summ)\n",
    "print()\n",
    "#HYPERPARAM TUNNING\n",
    "model, params_ = tuneALL_PARAM_XGB(train, y_train, CV, params_range, params_, searchMethod[0])"
   ]
  },
  {
   "cell_type": "markdown",
   "metadata": {},
   "source": [
    "#### [10.2]Optimal value of parameters after tunning:"
   ]
  },
  {
   "cell_type": "code",
   "execution_count": 276,
   "metadata": {
    "scrolled": true
   },
   "outputs": [
    {
     "name": "stdout",
     "output_type": "stream",
     "text": [
      "Optimal Value of Hyperparameters after Tunning:\n",
      "\n",
      "+------------------+-------+\n",
      "|    Parameter     | Value |\n",
      "+------------------+-------+\n",
      "|   n_estimators   |   64  |\n",
      "|    max_depth     |   5   |\n",
      "| min_child_weight |   5   |\n",
      "|      gamma       |  0.3  |\n",
      "|    subsample     |  0.9  |\n",
      "| colsample_bytree |  0.9  |\n",
      "|    reg_alpha     | 0.005 |\n",
      "+------------------+-------+\n"
     ]
    }
   ],
   "source": [
    "print('Optimal Value of Hyperparameters after Tunning:\\n')\n",
    "param_list(params_,param_summ)\n"
   ]
  },
  {
   "cell_type": "markdown",
   "metadata": {
    "colab_type": "text",
    "id": "m5llrbHC-juq"
   },
   "source": [
    "#### [10.3]Test performance :"
   ]
  },
  {
   "cell_type": "code",
   "execution_count": 277,
   "metadata": {
    "colab": {},
    "colab_type": "code",
    "id": "U6yVmcej-fGc"
   },
   "outputs": [
    {
     "name": "stdout",
     "output_type": "stream",
     "text": [
      "FOR OPTIMAL PARAMETERS, TRAIN RMSE: 1.04781,  TEST RMSE: 1.07510\n"
     ]
    },
    {
     "data": {
      "image/png": "[encoded data removed]",
      "text/plain": [
       "<Figure size 576x432 with 1 Axes>"
      ]
     },
     "metadata": {
      "needs_background": "light"
     },
     "output_type": "display_data"
    },
    {
     "name": "stdout",
     "output_type": "stream",
     "text": [
      "CPU times: user 3.42 s, sys: 996 ms, total: 4.42 s\n",
      "Wall time: 3.03 s\n"
     ]
    }
   ],
   "source": [
    "%%time\n",
    "train_result, test_result, model_local_summ=test_performance_xgb(train, y_train, test, y_test,\\\n",
    "                                                                 params_, model_summary, model_name[9], summary=True)\n",
    "\n",
    "#SAVE THE TEST RESULTS TO DICT OF DICT\n",
    "models_evaluation_train[model_name[9]] = train_result\n",
    "models_evaluation_test[model_name[9]] = test_result\n"
   ]
  },
  {
   "cell_type": "markdown",
   "metadata": {},
   "source": [
    "#### [10.4] Model Summary:"
   ]
  },
  {
   "cell_type": "code",
   "execution_count": 280,
   "metadata": {},
   "outputs": [
    {
     "name": "stdout",
     "output_type": "stream",
     "text": [
      "+--------------------+-------------+-------------+------------+------------+\n",
      "|       Model        | Train(RMSE) | Train(MAPE) | Test(RMSE) | Test(MAPE) |\n",
      "+--------------------+-------------+-------------+------------+------------+\n",
      "| XGBOOST-BSL-KNN-MF |   1.04781   |   33.96307  |  1.07510   |  35.23055  |\n",
      "+--------------------+-------------+-------------+------------+------------+\n"
     ]
    }
   ],
   "source": [
    "#MODEL SUMMARY\n",
    "print(model_local_summ)"
   ]
  },
  {
   "cell_type": "markdown",
   "metadata": {
    "colab_type": "text",
    "id": "Qy3aZfCVHPsg"
   },
   "source": [
    "# ============================================================"
   ]
  },
  {
   "cell_type": "markdown",
   "metadata": {},
   "source": [
    "## Conclusion:"
   ]
  },
  {
   "cell_type": "code",
   "execution_count": 281,
   "metadata": {},
   "outputs": [
    {
     "name": "stdout",
     "output_type": "stream",
     "text": [
      "+-----------------------+-------------+-------------+------------+------------+\n",
      "|         Model         | Train(RMSE) | Train(MAPE) | Test(RMSE) | Test(MAPE) |\n",
      "+-----------------------+-------------+-------------+------------+------------+\n",
      "|    XGBOOST-13-FEATS   |   0.82606   |   24.16566  |  1.07701   |  33.59137  |\n",
      "|      BaselineOnly     |   0.83552   |   25.25685  |  1.07429   |  35.12019  |\n",
      "|      XGBOOST-BSL      |   0.82509   |   24.14721  |  1.06767   |  34.57024  |\n",
      "|    KNNBaseline-U-U    |   0.14034   |   3.41399   |  1.07426   |  35.11784  |\n",
      "|    KNNBaseline-I-I    |   0.27398   |   6.45966   |  1.07461   |  35.19819  |\n",
      "|      XGBOOST-KNN      |   0.82392   |   24.12600  |  1.06919   |  34.61556  |\n",
      "|          SVD          |   0.84508   |   25.80980  |  1.07418   |  35.13581  |\n",
      "|         SVD++         |   0.67078   |   19.84641  |  1.07450   |  35.11816  |\n",
      "| XGBOOST-13-BSL-KNN-MF |   0.82766   |   24.27682  |  1.06981   |  34.19354  |\n",
      "|   XGBOOST-BSL-KNN-MF  |   1.04781   |   33.96307  |  1.07510   |  35.23055  |\n",
      "+-----------------------+-------------+-------------+------------+------------+\n"
     ]
    }
   ],
   "source": [
    "print(model_summary)"
   ]
  },
  {
   "cell_type": "markdown",
   "metadata": {},
   "source": [
    "## Best performance given by model:\n",
    "        1. XGBOOST+BSL with RMSE=1.06767\n",
    "        2. XGBOOST+KNN with RMSE=1.06919"
   ]
  },
  {
   "cell_type": "markdown",
   "metadata": {},
   "source": [
    "## Procedure:\n",
    "1. We have to solve a problem, where we have to predict a rating given by user to movie not yet watched by that user.\n",
    "2. We can map this problem to Machine Learning problem in 2 ways:\n",
    "        a. Recommendation system.\n",
    "        b. Regression problem.\n",
    "3. We proceed with loading the dataset and with basic details of the dataset:\n",
    "        a. How many users are present in dataset?\n",
    "        b. How many movies are present in dataset?\n",
    "        c. How many ratings are present?\n",
    "4. As the time stamps are given in dataset so we sorted the data in ascending order of time and splitted it into train and test data for further analysis(Temporal Fashion). \n",
    "5. We did EDA and Feature Extraction:\n",
    "        a. Ratings:\n",
    "                ->ratings per movie.\n",
    "                ->how many movies a user rated?\n",
    "                ->PDF and CDF of ratings given by a user.\n",
    "        b. Build movie-movie similarity matrix.\n",
    "        c. As we have huge amount of data we build sample train data for train data and sample test data from test data .\n",
    "        d. We feturize sample train data and sample test data for regression:\n",
    "                ->global avg, user avg and movie avg.\n",
    "                ->sur = top 5 similar users rating for a movie.\n",
    "                ->smr = top 5 similar movies rating by a user.\n",
    "                ->handled cold start problem(new user / new movie) by taking global average.\n",
    "6. We convert data so that accepted by surprise library. \n",
    "7. We Build ML models:\n",
    "        a. Regression(XGBOOST) model.\n",
    "        b. Surprise library models:\n",
    "                ->BaselineOnly \n",
    "                ->KNNBasseline\n",
    "                ->SVD \n",
    "                ->SVDpp\n",
    "#### Note: \n",
    "#### -After applying each of the surprise library model we add output of that model as a new feature to our regression data and build regression model on that data. \n",
    "#### -Ways to handle cold start problem:\n",
    "        1. Recommend globally top movies initially to a new user.\n",
    "        2. From ip address we can find information like user belongs to which region, and based on that region we recommend movies which are popular in that region to a new user.\n",
    "        3. Recommend movies/items based on the few of the items/movies watched by the user."
   ]
  }
 ],
 "metadata": {
  "colab": {
   "collapsed_sections": [],
   "name": "SURPRISE_PARAM_TUNE.ipynb",
   "provenance": [],
   "version": "0.3.2"
  },
  "kernelspec": {
   "display_name": "Python 3",
   "language": "python",
   "name": "python3"
  },
  "language_info": {
   "codemirror_mode": {
    "name": "ipython",
    "version": 3
   },
   "file_extension": ".py",
   "mimetype": "text/x-python",
   "name": "python",
   "nbconvert_exporter": "python",
   "pygments_lexer": "ipython3",
   "version": "3.5.3"
  }
 },
 "nbformat": 4,
 "nbformat_minor": 1
}
